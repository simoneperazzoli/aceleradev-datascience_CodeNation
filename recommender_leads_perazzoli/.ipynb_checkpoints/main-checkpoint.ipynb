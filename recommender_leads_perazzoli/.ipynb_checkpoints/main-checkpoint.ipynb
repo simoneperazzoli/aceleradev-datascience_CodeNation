{
 "cells": [
  {
   "cell_type": "markdown",
   "metadata": {},
   "source": [
    "### Final Challenge - AceleraDev Data Science 2020\n",
    "\n",
    "GOAL: The purpose of this project is to provide an automated service that recommends leads to a user given their current customer list (Portfolio)."
   ]
  },
  {
   "cell_type": "markdown",
   "metadata": {},
   "source": [
    "### Loading libraries"
   ]
  },
  {
   "cell_type": "code",
   "execution_count": 1,
   "metadata": {},
   "outputs": [],
   "source": [
    "import numpy as np\n",
    "import pandas as pd\n",
    "from pandas import DataFrame\n",
    "import scipy.stats as stats\n",
    "import matplotlib.pyplot as plt\n",
    "import seaborn as sns\n",
    "import squarify as sqy\n",
    "from sklearn.preprocessing import LabelEncoder\n",
    "from sklearn.cluster import KMeans, SpectralClustering\n",
    "from sklearn.preprocessing import Normalizer\n",
    "import warnings\n",
    "warnings.simplefilter(action = 'ignore')"
   ]
  },
  {
   "cell_type": "markdown",
   "metadata": {},
   "source": [
    "### Loading datasets"
   ]
  },
  {
   "cell_type": "markdown",
   "metadata": {},
   "source": [
    "##### Main dataframe"
   ]
  },
  {
   "cell_type": "code",
   "execution_count": 2,
   "metadata": {},
   "outputs": [],
   "source": [
    "df = pd.read_csv('estaticos_market.csv', error_bad_lines=False)"
   ]
  },
  {
   "cell_type": "code",
   "execution_count": 3,
   "metadata": {},
   "outputs": [
    {
     "name": "stdout",
     "output_type": "stream",
     "text": [
      "<class 'pandas.core.frame.DataFrame'>\n",
      "RangeIndex: 462298 entries, 0 to 462297\n",
      "Columns: 182 entries, Unnamed: 0 to qt_filiais\n",
      "dtypes: bool(9), float64(144), int64(2), object(27)\n",
      "memory usage: 614.1+ MB\n"
     ]
    }
   ],
   "source": [
    "df.info()"
   ]
  },
  {
   "cell_type": "code",
   "execution_count": 4,
   "metadata": {},
   "outputs": [
    {
     "data": {
      "text/plain": [
       "(462298, 182)"
      ]
     },
     "execution_count": 4,
     "metadata": {},
     "output_type": "execute_result"
    }
   ],
   "source": [
    "df.shape"
   ]
  },
  {
   "cell_type": "code",
   "execution_count": 5,
   "metadata": {},
   "outputs": [
    {
     "data": {
      "text/html": [
       "<div>\n",
       "<style scoped>\n",
       "    .dataframe tbody tr th:only-of-type {\n",
       "        vertical-align: middle;\n",
       "    }\n",
       "\n",
       "    .dataframe tbody tr th {\n",
       "        vertical-align: top;\n",
       "    }\n",
       "\n",
       "    .dataframe thead th {\n",
       "        text-align: right;\n",
       "    }\n",
       "</style>\n",
       "<table border=\"1\" class=\"dataframe\">\n",
       "  <thead>\n",
       "    <tr style=\"text-align: right;\">\n",
       "      <th></th>\n",
       "      <th>Unnamed: 0</th>\n",
       "      <th>id</th>\n",
       "      <th>fl_matriz</th>\n",
       "      <th>de_natureza_juridica</th>\n",
       "      <th>sg_uf</th>\n",
       "      <th>natureza_juridica_macro</th>\n",
       "      <th>de_ramo</th>\n",
       "      <th>setor</th>\n",
       "      <th>idade_empresa_anos</th>\n",
       "      <th>idade_emp_cat</th>\n",
       "      <th>...</th>\n",
       "      <th>media_meses_servicos</th>\n",
       "      <th>max_meses_servicos</th>\n",
       "      <th>min_meses_servicos</th>\n",
       "      <th>qt_funcionarios</th>\n",
       "      <th>qt_funcionarios_12meses</th>\n",
       "      <th>qt_funcionarios_24meses</th>\n",
       "      <th>tx_crescimento_12meses</th>\n",
       "      <th>tx_crescimento_24meses</th>\n",
       "      <th>tx_rotatividade</th>\n",
       "      <th>qt_filiais</th>\n",
       "    </tr>\n",
       "  </thead>\n",
       "  <tbody>\n",
       "    <tr>\n",
       "      <th>0</th>\n",
       "      <td>0</td>\n",
       "      <td>a6984c3ae395090e3bee8ad63c3758b110de096d5d8195...</td>\n",
       "      <td>True</td>\n",
       "      <td>SOCIEDADE EMPRESARIA LIMITADA</td>\n",
       "      <td>RN</td>\n",
       "      <td>ENTIDADES EMPRESARIAIS</td>\n",
       "      <td>INDUSTRIA DA CONSTRUCAO</td>\n",
       "      <td>CONSTRUÇÃO CIVIL</td>\n",
       "      <td>14.457534</td>\n",
       "      <td>10 a 15</td>\n",
       "      <td>...</td>\n",
       "      <td>43.738462</td>\n",
       "      <td>93.266667</td>\n",
       "      <td>19.166667</td>\n",
       "      <td>26.0</td>\n",
       "      <td>26.0</td>\n",
       "      <td>27.0</td>\n",
       "      <td>0.0</td>\n",
       "      <td>-3.703704</td>\n",
       "      <td>0.0</td>\n",
       "      <td>0</td>\n",
       "    </tr>\n",
       "    <tr>\n",
       "      <th>1</th>\n",
       "      <td>1</td>\n",
       "      <td>6178f41ade1365e44bc2c46654c2c8c0eaae27dcb476c4...</td>\n",
       "      <td>True</td>\n",
       "      <td>EMPRESARIO INDIVIDUAL</td>\n",
       "      <td>PI</td>\n",
       "      <td>OUTROS</td>\n",
       "      <td>SERVICOS DE ALOJAMENTO/ALIMENTACAO</td>\n",
       "      <td>SERVIÇO</td>\n",
       "      <td>1.463014</td>\n",
       "      <td>1 a 5</td>\n",
       "      <td>...</td>\n",
       "      <td>NaN</td>\n",
       "      <td>NaN</td>\n",
       "      <td>NaN</td>\n",
       "      <td>NaN</td>\n",
       "      <td>NaN</td>\n",
       "      <td>NaN</td>\n",
       "      <td>NaN</td>\n",
       "      <td>NaN</td>\n",
       "      <td>NaN</td>\n",
       "      <td>0</td>\n",
       "    </tr>\n",
       "    <tr>\n",
       "      <th>2</th>\n",
       "      <td>2</td>\n",
       "      <td>4a7e5069a397f12fdd7fd57111d6dc5d3ba558958efc02...</td>\n",
       "      <td>True</td>\n",
       "      <td>EMPRESARIO INDIVIDUAL</td>\n",
       "      <td>AM</td>\n",
       "      <td>OUTROS</td>\n",
       "      <td>TRANSPORTE, ARMAZENAGEM E CORREIO</td>\n",
       "      <td>SERVIÇO</td>\n",
       "      <td>7.093151</td>\n",
       "      <td>5 a 10</td>\n",
       "      <td>...</td>\n",
       "      <td>NaN</td>\n",
       "      <td>NaN</td>\n",
       "      <td>NaN</td>\n",
       "      <td>NaN</td>\n",
       "      <td>NaN</td>\n",
       "      <td>NaN</td>\n",
       "      <td>NaN</td>\n",
       "      <td>NaN</td>\n",
       "      <td>NaN</td>\n",
       "      <td>0</td>\n",
       "    </tr>\n",
       "    <tr>\n",
       "      <th>3</th>\n",
       "      <td>3</td>\n",
       "      <td>3348900fe63216a439d2e5238c79ddd46ede454df7b9d8...</td>\n",
       "      <td>True</td>\n",
       "      <td>EMPRESARIO INDIVIDUAL</td>\n",
       "      <td>AM</td>\n",
       "      <td>OUTROS</td>\n",
       "      <td>SERVICOS DIVERSOS</td>\n",
       "      <td>SERVIÇO</td>\n",
       "      <td>6.512329</td>\n",
       "      <td>5 a 10</td>\n",
       "      <td>...</td>\n",
       "      <td>NaN</td>\n",
       "      <td>NaN</td>\n",
       "      <td>NaN</td>\n",
       "      <td>NaN</td>\n",
       "      <td>NaN</td>\n",
       "      <td>NaN</td>\n",
       "      <td>NaN</td>\n",
       "      <td>NaN</td>\n",
       "      <td>NaN</td>\n",
       "      <td>0</td>\n",
       "    </tr>\n",
       "    <tr>\n",
       "      <th>4</th>\n",
       "      <td>4</td>\n",
       "      <td>1f9bcabc9d3173c1fe769899e4fac14b053037b953a1e4...</td>\n",
       "      <td>True</td>\n",
       "      <td>EMPRESARIO INDIVIDUAL</td>\n",
       "      <td>RN</td>\n",
       "      <td>OUTROS</td>\n",
       "      <td>SERVICOS PROFISSIONAIS, TECNICOS E CIENTIFICOS</td>\n",
       "      <td>SERVIÇO</td>\n",
       "      <td>3.200000</td>\n",
       "      <td>1 a 5</td>\n",
       "      <td>...</td>\n",
       "      <td>NaN</td>\n",
       "      <td>NaN</td>\n",
       "      <td>NaN</td>\n",
       "      <td>NaN</td>\n",
       "      <td>NaN</td>\n",
       "      <td>NaN</td>\n",
       "      <td>NaN</td>\n",
       "      <td>NaN</td>\n",
       "      <td>NaN</td>\n",
       "      <td>0</td>\n",
       "    </tr>\n",
       "  </tbody>\n",
       "</table>\n",
       "<p>5 rows × 182 columns</p>\n",
       "</div>"
      ],
      "text/plain": [
       "   Unnamed: 0                                                 id  fl_matriz  \\\n",
       "0           0  a6984c3ae395090e3bee8ad63c3758b110de096d5d8195...       True   \n",
       "1           1  6178f41ade1365e44bc2c46654c2c8c0eaae27dcb476c4...       True   \n",
       "2           2  4a7e5069a397f12fdd7fd57111d6dc5d3ba558958efc02...       True   \n",
       "3           3  3348900fe63216a439d2e5238c79ddd46ede454df7b9d8...       True   \n",
       "4           4  1f9bcabc9d3173c1fe769899e4fac14b053037b953a1e4...       True   \n",
       "\n",
       "            de_natureza_juridica sg_uf natureza_juridica_macro  \\\n",
       "0  SOCIEDADE EMPRESARIA LIMITADA    RN  ENTIDADES EMPRESARIAIS   \n",
       "1          EMPRESARIO INDIVIDUAL    PI                  OUTROS   \n",
       "2          EMPRESARIO INDIVIDUAL    AM                  OUTROS   \n",
       "3          EMPRESARIO INDIVIDUAL    AM                  OUTROS   \n",
       "4          EMPRESARIO INDIVIDUAL    RN                  OUTROS   \n",
       "\n",
       "                                          de_ramo             setor  \\\n",
       "0                         INDUSTRIA DA CONSTRUCAO  CONSTRUÇÃO CIVIL   \n",
       "1              SERVICOS DE ALOJAMENTO/ALIMENTACAO           SERVIÇO   \n",
       "2               TRANSPORTE, ARMAZENAGEM E CORREIO           SERVIÇO   \n",
       "3                               SERVICOS DIVERSOS           SERVIÇO   \n",
       "4  SERVICOS PROFISSIONAIS, TECNICOS E CIENTIFICOS           SERVIÇO   \n",
       "\n",
       "   idade_empresa_anos idade_emp_cat  ...  media_meses_servicos  \\\n",
       "0           14.457534       10 a 15  ...             43.738462   \n",
       "1            1.463014         1 a 5  ...                   NaN   \n",
       "2            7.093151        5 a 10  ...                   NaN   \n",
       "3            6.512329        5 a 10  ...                   NaN   \n",
       "4            3.200000         1 a 5  ...                   NaN   \n",
       "\n",
       "   max_meses_servicos  min_meses_servicos  qt_funcionarios  \\\n",
       "0           93.266667           19.166667             26.0   \n",
       "1                 NaN                 NaN              NaN   \n",
       "2                 NaN                 NaN              NaN   \n",
       "3                 NaN                 NaN              NaN   \n",
       "4                 NaN                 NaN              NaN   \n",
       "\n",
       "   qt_funcionarios_12meses qt_funcionarios_24meses  tx_crescimento_12meses  \\\n",
       "0                     26.0                    27.0                     0.0   \n",
       "1                      NaN                     NaN                     NaN   \n",
       "2                      NaN                     NaN                     NaN   \n",
       "3                      NaN                     NaN                     NaN   \n",
       "4                      NaN                     NaN                     NaN   \n",
       "\n",
       "   tx_crescimento_24meses  tx_rotatividade qt_filiais  \n",
       "0               -3.703704              0.0          0  \n",
       "1                     NaN              NaN          0  \n",
       "2                     NaN              NaN          0  \n",
       "3                     NaN              NaN          0  \n",
       "4                     NaN              NaN          0  \n",
       "\n",
       "[5 rows x 182 columns]"
      ]
     },
     "execution_count": 5,
     "metadata": {},
     "output_type": "execute_result"
    }
   ],
   "source": [
    "df.head()"
   ]
  },
  {
   "cell_type": "code",
   "execution_count": 6,
   "metadata": {
    "scrolled": false
   },
   "outputs": [
    {
     "data": {
      "text/plain": [
       "Index(['Unnamed: 0', 'id', 'fl_matriz', 'de_natureza_juridica', 'sg_uf',\n",
       "       'natureza_juridica_macro', 'de_ramo', 'setor', 'idade_empresa_anos',\n",
       "       'idade_emp_cat',\n",
       "       ...\n",
       "       'media_meses_servicos', 'max_meses_servicos', 'min_meses_servicos',\n",
       "       'qt_funcionarios', 'qt_funcionarios_12meses', 'qt_funcionarios_24meses',\n",
       "       'tx_crescimento_12meses', 'tx_crescimento_24meses', 'tx_rotatividade',\n",
       "       'qt_filiais'],\n",
       "      dtype='object', length=182)"
      ]
     },
     "execution_count": 6,
     "metadata": {},
     "output_type": "execute_result"
    }
   ],
   "source": [
    "# Chechinkg columns\n",
    "df.columns"
   ]
  },
  {
   "cell_type": "code",
   "execution_count": 7,
   "metadata": {},
   "outputs": [
    {
     "data": {
      "text/plain": [
       "Unnamed: 0                   int64\n",
       "id                          object\n",
       "fl_matriz                     bool\n",
       "de_natureza_juridica        object\n",
       "sg_uf                       object\n",
       "                            ...   \n",
       "qt_funcionarios_24meses    float64\n",
       "tx_crescimento_12meses     float64\n",
       "tx_crescimento_24meses     float64\n",
       "tx_rotatividade            float64\n",
       "qt_filiais                   int64\n",
       "Length: 182, dtype: object"
      ]
     },
     "execution_count": 7,
     "metadata": {},
     "output_type": "execute_result"
    }
   ],
   "source": [
    "# Checking data types\n",
    "df.dtypes"
   ]
  },
  {
   "cell_type": "markdown",
   "metadata": {},
   "source": [
    "##### Auxiliars dataframes"
   ]
  },
  {
   "cell_type": "code",
   "execution_count": 8,
   "metadata": {},
   "outputs": [],
   "source": [
    "df1 = pd.read_csv('estaticos_portfolio1.csv', usecols=['id'])\n",
    "df2 = pd.read_csv('estaticos_portfolio2.csv', usecols=['id'])\n",
    "df3 = pd.read_csv('estaticos_portfolio3.csv', usecols=['id'])"
   ]
  },
  {
   "cell_type": "code",
   "execution_count": 9,
   "metadata": {},
   "outputs": [
    {
     "data": {
      "text/html": [
       "<div>\n",
       "<style scoped>\n",
       "    .dataframe tbody tr th:only-of-type {\n",
       "        vertical-align: middle;\n",
       "    }\n",
       "\n",
       "    .dataframe tbody tr th {\n",
       "        vertical-align: top;\n",
       "    }\n",
       "\n",
       "    .dataframe thead th {\n",
       "        text-align: right;\n",
       "    }\n",
       "</style>\n",
       "<table border=\"1\" class=\"dataframe\">\n",
       "  <thead>\n",
       "    <tr style=\"text-align: right;\">\n",
       "      <th></th>\n",
       "      <th>id</th>\n",
       "    </tr>\n",
       "  </thead>\n",
       "  <tbody>\n",
       "    <tr>\n",
       "      <th>0</th>\n",
       "      <td>dabe79bec87c88ae04e869bf6bd321ee5e1893cecf6625...</td>\n",
       "    </tr>\n",
       "  </tbody>\n",
       "</table>\n",
       "</div>"
      ],
      "text/plain": [
       "                                                  id\n",
       "0  dabe79bec87c88ae04e869bf6bd321ee5e1893cecf6625..."
      ]
     },
     "execution_count": 9,
     "metadata": {},
     "output_type": "execute_result"
    }
   ],
   "source": [
    "df1.head(1)"
   ]
  },
  {
   "cell_type": "code",
   "execution_count": 10,
   "metadata": {},
   "outputs": [
    {
     "data": {
      "text/html": [
       "<div>\n",
       "<style scoped>\n",
       "    .dataframe tbody tr th:only-of-type {\n",
       "        vertical-align: middle;\n",
       "    }\n",
       "\n",
       "    .dataframe tbody tr th {\n",
       "        vertical-align: top;\n",
       "    }\n",
       "\n",
       "    .dataframe thead th {\n",
       "        text-align: right;\n",
       "    }\n",
       "</style>\n",
       "<table border=\"1\" class=\"dataframe\">\n",
       "  <thead>\n",
       "    <tr style=\"text-align: right;\">\n",
       "      <th></th>\n",
       "      <th>id</th>\n",
       "    </tr>\n",
       "  </thead>\n",
       "  <tbody>\n",
       "    <tr>\n",
       "      <th>0</th>\n",
       "      <td>09e95c1a84049001d086470a8f320a19b076f955a89122...</td>\n",
       "    </tr>\n",
       "  </tbody>\n",
       "</table>\n",
       "</div>"
      ],
      "text/plain": [
       "                                                  id\n",
       "0  09e95c1a84049001d086470a8f320a19b076f955a89122..."
      ]
     },
     "execution_count": 10,
     "metadata": {},
     "output_type": "execute_result"
    }
   ],
   "source": [
    "df2.head(1)"
   ]
  },
  {
   "cell_type": "code",
   "execution_count": 11,
   "metadata": {},
   "outputs": [
    {
     "data": {
      "text/html": [
       "<div>\n",
       "<style scoped>\n",
       "    .dataframe tbody tr th:only-of-type {\n",
       "        vertical-align: middle;\n",
       "    }\n",
       "\n",
       "    .dataframe tbody tr th {\n",
       "        vertical-align: top;\n",
       "    }\n",
       "\n",
       "    .dataframe thead th {\n",
       "        text-align: right;\n",
       "    }\n",
       "</style>\n",
       "<table border=\"1\" class=\"dataframe\">\n",
       "  <thead>\n",
       "    <tr style=\"text-align: right;\">\n",
       "      <th></th>\n",
       "      <th>id</th>\n",
       "    </tr>\n",
       "  </thead>\n",
       "  <tbody>\n",
       "    <tr>\n",
       "      <th>0</th>\n",
       "      <td>bb61c09449a1c1f8b78955d8b7a7f73599e78358993fe2...</td>\n",
       "    </tr>\n",
       "  </tbody>\n",
       "</table>\n",
       "</div>"
      ],
      "text/plain": [
       "                                                  id\n",
       "0  bb61c09449a1c1f8b78955d8b7a7f73599e78358993fe2..."
      ]
     },
     "execution_count": 11,
     "metadata": {},
     "output_type": "execute_result"
    }
   ],
   "source": [
    "df3.head(1)"
   ]
  },
  {
   "cell_type": "markdown",
   "metadata": {},
   "source": [
    "### Analysing main dataframe"
   ]
  },
  {
   "cell_type": "code",
   "execution_count": 12,
   "metadata": {},
   "outputs": [
    {
     "data": {
      "image/png": "[encoded data removed]",
      "text/plain": [
       "<Figure size 432x288 with 1 Axes>"
      ]
     },
     "metadata": {
      "needs_background": "light"
     },
     "output_type": "display_data"
    }
   ],
   "source": [
    "# Creating an auxiliar dataframe to analyze the consistency of the variables\n",
    "cons = pd.DataFrame({'features' : df.columns,\n",
    "                    'type': df.dtypes,\n",
    "                    'missing_values' : df.isna().sum(),\n",
    "                    'size' : df.shape[0],\n",
    "                    'unicos': df.nunique()})\n",
    "cons['percentage'] = round(cons['missing_values'] / cons['size'],2)\n",
    "cons['percentage'].plot.hist(bins = 10);"
   ]
  },
  {
   "cell_type": "markdown",
   "metadata": {},
   "source": [
    "##### Hypotesis 1: Columns containing only null values are not relevant"
   ]
  },
  {
   "cell_type": "code",
   "execution_count": 13,
   "metadata": {},
   "outputs": [
    {
     "name": "stdout",
     "output_type": "stream",
     "text": [
      "There are 5 features with only null values, which are: ['qt_alteracao_socio_total', 'qt_alteracao_socio_90d', 'qt_alteracao_socio_180d', 'qt_alteracao_socio_365d', 'grau_instrucao_macro_desconhecido']\n"
     ]
    }
   ],
   "source": [
    "null_features = df.isna().sum()\n",
    "null_features = null_features[null_features.isin([df.shape[0]])]\n",
    "list_null_features = list(null_features.index)\n",
    "qtd_list_null_features = len(list(null_features.index))\n",
    "print('There are', qtd_list_null_features, 'features with only null values, which are:', list_null_features)"
   ]
  },
  {
   "cell_type": "code",
   "execution_count": 14,
   "metadata": {},
   "outputs": [
    {
     "name": "stdout",
     "output_type": "stream",
     "text": [
      "The new dataframe shape is (462298, 177)\n"
     ]
    }
   ],
   "source": [
    "# Dropping columns containing all values as null\n",
    "df.drop(columns=list_null_features, inplace=True)\n",
    "print('The new dataframe shape is', df.shape)"
   ]
  },
  {
   "cell_type": "markdown",
   "metadata": {},
   "source": [
    "##### Hypotesis 2: Columns containing null values > 50% could not be relevant for the analysis.\n",
    "To reach this value, in addition to the amount of null data, it was considered the relevance of each column to the problem solution."
   ]
  },
  {
   "cell_type": "code",
   "execution_count": 15,
   "metadata": {},
   "outputs": [
    {
     "name": "stdout",
     "output_type": "stream",
     "text": [
      "There are 126 features with >50% of null values, which are: ['vl_total_tancagem', 'vl_total_veiculos_antt', 'vl_total_veiculos_leves', 'vl_total_veiculos_pesados', 'qt_art', 'vl_total_tancagem_grupo', 'vl_total_veiculos_antt_grupo', 'vl_potenc_cons_oleo_gas', 'de_indicador_telefone', 'vl_frota', 'qt_socios_st_suspensa', 'qt_socios_masculino', 'qt_socios_feminino', 'qt_socios_pep', 'qt_socios_pj_ativos', 'qt_socios_pj_nulos', 'qt_socios_pj_baixados', 'qt_socios_pj_suspensos', 'qt_socios_pj_inaptos', 'vl_idade_media_socios_pj', 'vl_idade_maxima_socios_pj', 'vl_idade_minima_socios_pj', 'qt_coligados', 'qt_socios_coligados', 'qt_coligados_matriz', 'qt_coligados_ativo', 'qt_coligados_baixada', 'qt_coligados_inapta', 'qt_coligados_suspensa', 'qt_coligados_nula', 'idade_media_coligadas', 'idade_maxima_coligadas', 'idade_minima_coligadas', 'coligada_mais_nova_ativa', 'coligada_mais_antiga_ativa', 'idade_media_coligadas_ativas', 'coligada_mais_nova_baixada', 'coligada_mais_antiga_baixada', 'idade_media_coligadas_baixadas', 'qt_coligados_sa', 'qt_coligados_me', 'qt_coligados_mei', 'qt_coligados_ltda', 'qt_coligados_epp', 'qt_coligados_norte', 'qt_coligados_sul', 'qt_coligados_nordeste', 'qt_coligados_centro', 'qt_coligados_sudeste', 'qt_coligados_exterior', 'qt_ufs_coligados', 'qt_regioes_coligados', 'qt_ramos_coligados', 'qt_coligados_industria', 'qt_coligados_agropecuaria', 'qt_coligados_comercio', 'qt_coligados_serviço', 'qt_coligados_ccivil', 'qt_funcionarios_coligados', 'qt_funcionarios_coligados_gp', 'media_funcionarios_coligados_gp', 'max_funcionarios_coligados_gp', 'min_funcionarios_coligados_gp', 'vl_folha_coligados', 'media_vl_folha_coligados', 'max_vl_folha_coligados', 'min_vl_folha_coligados', 'vl_folha_coligados_gp', 'media_vl_folha_coligados_gp', 'max_vl_folha_coligados_gp', 'min_vl_folha_coligados_gp', 'faturamento_est_coligados', 'media_faturamento_est_coligados', 'max_faturamento_est_coligados', 'min_faturamento_est_coligados', 'faturamento_est_coligados_gp', 'media_faturamento_est_coligados_gp', 'max_faturamento_est_coligados_gp', 'min_faturamento_est_coligados_gp', 'total_filiais_coligados', 'media_filiais_coligados', 'max_filiais_coligados', 'min_filiais_coligados', 'qt_coligados_atividade_alto', 'qt_coligados_atividade_medio', 'qt_coligados_atividade_baixo', 'qt_coligados_atividade_mt_baixo', 'qt_coligados_atividade_inativo', 'qt_coligadas', 'sum_faturamento_estimado_coligadas', 'qt_ex_funcionarios', 'qt_funcionarios_grupo', 'percent_func_genero_masc', 'percent_func_genero_fem', 'idade_ate_18', 'idade_de_19_a_23', 'idade_de_24_a_28', 'idade_de_29_a_33', 'idade_de_34_a_38', 'idade_de_39_a_43', 'idade_de_44_a_48', 'idade_de_49_a_53', 'idade_de_54_a_58', 'idade_acima_de_58', 'grau_instrucao_macro_analfabeto', 'grau_instrucao_macro_escolaridade_fundamental', 'grau_instrucao_macro_escolaridade_media', 'grau_instrucao_macro_escolaridade_superior', 'total', 'meses_ultima_contratacaco', 'qt_admitidos_12meses', 'qt_desligados_12meses', 'qt_desligados', 'qt_admitidos', 'media_meses_servicos_all', 'max_meses_servicos_all', 'min_meses_servicos_all', 'media_meses_servicos', 'max_meses_servicos', 'min_meses_servicos', 'qt_funcionarios', 'qt_funcionarios_12meses', 'qt_funcionarios_24meses', 'tx_crescimento_12meses', 'tx_crescimento_24meses', 'tx_rotatividade']\n"
     ]
    }
   ],
   "source": [
    "null_features_fraction = (df.isna().sum()/df.shape[0]*100) > 50.0 \n",
    "null_features_fraction = null_features_fraction[null_features_fraction.isin([True])]\n",
    "len(list(null_features_fraction.index))\n",
    "list_null_features_fraction = list(null_features_fraction.index)\n",
    "qtd_list_null_features_fraction = len(list(null_features_fraction.index))\n",
    "print('There are', qtd_list_null_features_fraction, 'features with >50% of null values,',  \n",
    "      'which are:', list_null_features_fraction)"
   ]
  },
  {
   "cell_type": "code",
   "execution_count": 16,
   "metadata": {},
   "outputs": [
    {
     "name": "stdout",
     "output_type": "stream",
     "text": [
      "The new dataframe shape is (462298, 51)\n"
     ]
    }
   ],
   "source": [
    "# Dropping features containing null values > 50% \n",
    "df.drop(columns=list_null_features_fraction, inplace=True)\n",
    "print('The new dataframe shape is', df.shape)"
   ]
  },
  {
   "cell_type": "markdown",
   "metadata": {},
   "source": [
    "##### Checking remaining features and analysing their relevance"
   ]
  },
  {
   "cell_type": "code",
   "execution_count": 17,
   "metadata": {},
   "outputs": [
    {
     "data": {
      "text/plain": [
       "qt_socios_st_regular                     0.335102\n",
       "idade_minima_socios                      0.327931\n",
       "idade_maxima_socios                      0.327931\n",
       "idade_media_socios                       0.327931\n",
       "empsetorcensitariofaixarendapopulacao    0.311118\n",
       "qt_socios_pj                             0.248954\n",
       "qt_socios_pf                             0.248954\n",
       "qt_socios                                0.248954\n",
       "fl_optante_simei                         0.178917\n",
       "fl_optante_simples                       0.178917\n",
       "nm_micro_regiao                          0.126970\n",
       "nm_meso_regiao                           0.126970\n",
       "nu_meses_rescencia                       0.097937\n",
       "de_faixa_faturamento_estimado            0.059514\n",
       "vl_faturamento_estimado_grupo_aux        0.059514\n",
       "de_faixa_faturamento_estimado_grupo      0.059514\n",
       "vl_faturamento_estimado_aux              0.059514\n",
       "de_saude_rescencia                       0.032124\n",
       "de_saude_tributaria                      0.032124\n",
       "de_nivel_atividade                       0.024158\n",
       "sg_uf_matriz                             0.004194\n",
       "fl_veiculo                               0.004168\n",
       "setor                                    0.004168\n",
       "nm_divisao                               0.004168\n",
       "fl_spa                                   0.004168\n",
       "fl_antt                                  0.004168\n",
       "nm_segmento                              0.004168\n",
       "fl_passivel_iss                          0.004168\n",
       "vl_total_veiculos_pesados_grupo          0.004168\n",
       "vl_total_veiculos_leves_grupo            0.004168\n",
       "fl_simples_irregular                     0.004168\n",
       "dt_situacao                              0.000013\n",
       "idade_emp_cat                            0.000000\n",
       "id                                       0.000000\n",
       "fl_matriz                                0.000000\n",
       "de_natureza_juridica                     0.000000\n",
       "sg_uf                                    0.000000\n",
       "natureza_juridica_macro                  0.000000\n",
       "de_ramo                                  0.000000\n",
       "idade_empresa_anos                       0.000000\n",
       "qt_filiais                               0.000000\n",
       "fl_me                                    0.000000\n",
       "fl_sa                                    0.000000\n",
       "fl_epp                                   0.000000\n",
       "fl_mei                                   0.000000\n",
       "fl_ltda                                  0.000000\n",
       "fl_st_especial                           0.000000\n",
       "fl_email                                 0.000000\n",
       "fl_telefone                              0.000000\n",
       "fl_rm                                    0.000000\n",
       "Unnamed: 0                               0.000000\n",
       "dtype: float64"
      ]
     },
     "execution_count": 17,
     "metadata": {},
     "output_type": "execute_result"
    }
   ],
   "source": [
    "(df.isna().sum()/df.shape[0]).sort_values(ascending=False)"
   ]
  },
  {
   "cell_type": "markdown",
   "metadata": {},
   "source": [
    "##### Dropping additional irrelevant features"
   ]
  },
  {
   "cell_type": "code",
   "execution_count": 18,
   "metadata": {},
   "outputs": [
    {
     "name": "stdout",
     "output_type": "stream",
     "text": [
      "Irrelevant features: 9\n"
     ]
    }
   ],
   "source": [
    "features_to_drop = ['Unnamed: 0','fl_email','fl_telefone','qt_socios_st_regular','qt_socios_pj',\n",
    "                'qt_socios_pf','fl_simples_irregular','fl_optante_simei','fl_optante_simples']\n",
    "print('Irrelevant features:', len(features_to_drop))"
   ]
  },
  {
   "cell_type": "markdown",
   "metadata": {},
   "source": [
    "**Unnamed**: 0: numeração das observações\n",
    "\n",
    "**fl_email**: boolean value, true if the cnpj has an email registered at the IRF database. \n",
    "\n",
    "**fl_telefone**: boolean value, true if the company has a phone number registered in IRS database.\n",
    "\n",
    "**qt_socios_st_regular**: integer value, quantity of partners with regular situation under IRS - Receita Federal\n",
    "\n",
    "**qt_socios_pj**:  integer value, quantity of partners/shareholders of the cnpj that are companies\n",
    "\n",
    "**qt_socios_pf**: integer value, quantity of partners/shareholders of the cnpj that are persons\n",
    "\n",
    "**fl_simples_irregular**: boolean, true if the company is taxed under the SIMPLES regime and has a impeditive CNAE (economic activities that are not allowed to be taxed according to the simples regime) revenue above the limit of the regime.\n",
    "\n",
    "**fl_optante_simei**: boolean, true if the company is taxed as an MEI - Individual Micro Entrepreneur (Micro Empreendedor Individual)\n",
    "\n",
    "**fl_optante_simples**: boolean, true if the company is taxed according to SIMPLES regime"
   ]
  },
  {
   "cell_type": "code",
   "execution_count": 19,
   "metadata": {},
   "outputs": [
    {
     "name": "stdout",
     "output_type": "stream",
     "text": [
      "The updated dataframe shape is (462298, 42)\n"
     ]
    }
   ],
   "source": [
    "# Dropping remaining irrelevant features\n",
    "df.drop(columns=features_to_drop, inplace=True)\n",
    "print('The updated dataframe shape is', df.shape)"
   ]
  },
  {
   "cell_type": "code",
   "execution_count": 20,
   "metadata": {},
   "outputs": [
    {
     "name": "stdout",
     "output_type": "stream",
     "text": [
      "<class 'pandas.core.frame.DataFrame'>\n",
      "RangeIndex: 462298 entries, 0 to 462297\n",
      "Data columns (total 42 columns):\n",
      " #   Column                                 Non-Null Count   Dtype  \n",
      "---  ------                                 --------------   -----  \n",
      " 0   id                                     462298 non-null  object \n",
      " 1   fl_matriz                              462298 non-null  bool   \n",
      " 2   de_natureza_juridica                   462298 non-null  object \n",
      " 3   sg_uf                                  462298 non-null  object \n",
      " 4   natureza_juridica_macro                462298 non-null  object \n",
      " 5   de_ramo                                462298 non-null  object \n",
      " 6   setor                                  460371 non-null  object \n",
      " 7   idade_empresa_anos                     462298 non-null  float64\n",
      " 8   idade_emp_cat                          462298 non-null  object \n",
      " 9   fl_me                                  462298 non-null  bool   \n",
      " 10  fl_sa                                  462298 non-null  bool   \n",
      " 11  fl_epp                                 462298 non-null  bool   \n",
      " 12  fl_mei                                 462298 non-null  bool   \n",
      " 13  fl_ltda                                462298 non-null  bool   \n",
      " 14  dt_situacao                            462292 non-null  object \n",
      " 15  fl_st_especial                         462298 non-null  bool   \n",
      " 16  fl_rm                                  462298 non-null  object \n",
      " 17  nm_divisao                             460371 non-null  object \n",
      " 18  nm_segmento                            460371 non-null  object \n",
      " 19  fl_spa                                 460371 non-null  object \n",
      " 20  fl_antt                                460371 non-null  object \n",
      " 21  fl_veiculo                             460371 non-null  object \n",
      " 22  vl_total_veiculos_pesados_grupo        460371 non-null  float64\n",
      " 23  vl_total_veiculos_leves_grupo          460371 non-null  float64\n",
      " 24  sg_uf_matriz                           460359 non-null  object \n",
      " 25  de_saude_tributaria                    447447 non-null  object \n",
      " 26  de_saude_rescencia                     447447 non-null  object \n",
      " 27  nu_meses_rescencia                     417022 non-null  float64\n",
      " 28  de_nivel_atividade                     451130 non-null  object \n",
      " 29  empsetorcensitariofaixarendapopulacao  318469 non-null  float64\n",
      " 30  nm_meso_regiao                         403600 non-null  object \n",
      " 31  nm_micro_regiao                        403600 non-null  object \n",
      " 32  fl_passivel_iss                        460371 non-null  object \n",
      " 33  qt_socios                              347207 non-null  float64\n",
      " 34  idade_media_socios                     310696 non-null  float64\n",
      " 35  idade_maxima_socios                    310696 non-null  float64\n",
      " 36  idade_minima_socios                    310696 non-null  float64\n",
      " 37  de_faixa_faturamento_estimado          434785 non-null  object \n",
      " 38  de_faixa_faturamento_estimado_grupo    434785 non-null  object \n",
      " 39  vl_faturamento_estimado_aux            434785 non-null  float64\n",
      " 40  vl_faturamento_estimado_grupo_aux      434785 non-null  float64\n",
      " 41  qt_filiais                             462298 non-null  int64  \n",
      "dtypes: bool(7), float64(11), int64(1), object(23)\n",
      "memory usage: 126.5+ MB\n"
     ]
    }
   ],
   "source": [
    "df.info()"
   ]
  },
  {
   "cell_type": "markdown",
   "metadata": {},
   "source": [
    "##### Creating a new dataset and replacing the null data by 'NOT INFORMED'"
   ]
  },
  {
   "cell_type": "code",
   "execution_count": 21,
   "metadata": {},
   "outputs": [
    {
     "name": "stdout",
     "output_type": "stream",
     "text": [
      "The collumns choosen for this solution are 18\n"
     ]
    }
   ],
   "source": [
    "#Selecting data for the proposed solution\n",
    "base = ['id','sg_uf','de_ramo','setor','nm_divisao','nm_segmento','de_nivel_atividade',\n",
    "        'nm_meso_regiao','nm_micro_regiao','de_faixa_faturamento_estimado','idade_emp_cat',\n",
    "        'de_natureza_juridica','fl_me','fl_sa','fl_epp','fl_mei','fl_ltda','qt_filiais']\n",
    "print('The collumns choosen for this solution are', len(base))\n",
    "clean_data = df[base]\n",
    "clean_data.fillna('NOT INFORMED', inplace=True)"
   ]
  },
  {
   "cell_type": "code",
   "execution_count": 22,
   "metadata": {},
   "outputs": [
    {
     "data": {
      "text/plain": [
       "id                               0\n",
       "sg_uf                            0\n",
       "de_ramo                          0\n",
       "setor                            0\n",
       "nm_divisao                       0\n",
       "nm_segmento                      0\n",
       "de_nivel_atividade               0\n",
       "nm_meso_regiao                   0\n",
       "nm_micro_regiao                  0\n",
       "de_faixa_faturamento_estimado    0\n",
       "idade_emp_cat                    0\n",
       "de_natureza_juridica             0\n",
       "fl_me                            0\n",
       "fl_sa                            0\n",
       "fl_epp                           0\n",
       "fl_mei                           0\n",
       "fl_ltda                          0\n",
       "qt_filiais                       0\n",
       "dtype: int64"
      ]
     },
     "execution_count": 22,
     "metadata": {},
     "output_type": "execute_result"
    }
   ],
   "source": [
    "clean_data.isnull().sum()"
   ]
  },
  {
   "cell_type": "markdown",
   "metadata": {},
   "source": [
    "**Feature engineering**\n",
    " \n",
    "Features containing all the missing data (5 columns) were eliminated.\n",
    "\n",
    "Features with more than 50% of missing data (126 columns) were eliminated.\n",
    "\n",
    "The remaining columns were analysed manualy, to check the relevance of the data for this solution and 9 columns were eliminated.\n",
    "\n",
    "18 columns were chosen manually, where the null data were treated by inserting 'WITHOUT INFORMATION'. Since all were categorical, no observation was left out of the analysis.\n",
    "\n",
    "For training the model, 9 of these features were considered most important for the solution."
   ]
  },
  {
   "cell_type": "code",
   "execution_count": 23,
   "metadata": {
    "scrolled": true
   },
   "outputs": [
    {
     "name": "stdout",
     "output_type": "stream",
     "text": [
      "Original dataset size (462298, 42)\n",
      "Baseline dataset size (462298, 18)\n"
     ]
    }
   ],
   "source": [
    "print('Original dataset size', df.shape)\n",
    "print('Baseline dataset size', clean_data.shape)"
   ]
  },
  {
   "cell_type": "code",
   "execution_count": 24,
   "metadata": {},
   "outputs": [
    {
     "data": {
      "text/html": [
       "<div>\n",
       "<style scoped>\n",
       "    .dataframe tbody tr th:only-of-type {\n",
       "        vertical-align: middle;\n",
       "    }\n",
       "\n",
       "    .dataframe tbody tr th {\n",
       "        vertical-align: top;\n",
       "    }\n",
       "\n",
       "    .dataframe thead th {\n",
       "        text-align: right;\n",
       "    }\n",
       "</style>\n",
       "<table border=\"1\" class=\"dataframe\">\n",
       "  <thead>\n",
       "    <tr style=\"text-align: right;\">\n",
       "      <th></th>\n",
       "      <th>id</th>\n",
       "      <th>sg_uf</th>\n",
       "      <th>de_ramo</th>\n",
       "      <th>setor</th>\n",
       "      <th>nm_divisao</th>\n",
       "      <th>nm_segmento</th>\n",
       "      <th>de_nivel_atividade</th>\n",
       "      <th>nm_meso_regiao</th>\n",
       "      <th>nm_micro_regiao</th>\n",
       "      <th>de_faixa_faturamento_estimado</th>\n",
       "      <th>idade_emp_cat</th>\n",
       "      <th>de_natureza_juridica</th>\n",
       "      <th>fl_me</th>\n",
       "      <th>fl_sa</th>\n",
       "      <th>fl_epp</th>\n",
       "      <th>fl_mei</th>\n",
       "      <th>fl_ltda</th>\n",
       "      <th>qt_filiais</th>\n",
       "    </tr>\n",
       "  </thead>\n",
       "  <tbody>\n",
       "    <tr>\n",
       "      <th>445060</th>\n",
       "      <td>a9bd2cb83cc0cc0ec0da84504dd8f643a224d0369c9799...</td>\n",
       "      <td>MA</td>\n",
       "      <td>COMERCIO VAREJISTA</td>\n",
       "      <td>COMERCIO</td>\n",
       "      <td>COMERCIO VAREJISTA</td>\n",
       "      <td>COMERCIO; REPARACAO DE VEICULOS AUTOMOTORES E ...</td>\n",
       "      <td>BAIXA</td>\n",
       "      <td>NORTE MARANHENSE</td>\n",
       "      <td>AGLOMERACAO URBANA DE SAO LUIS</td>\n",
       "      <td>DE R$ 81.000,01 A R$ 360.000,00</td>\n",
       "      <td>&gt; 20</td>\n",
       "      <td>SOCIEDADE EMPRESARIA LIMITADA</td>\n",
       "      <td>False</td>\n",
       "      <td>False</td>\n",
       "      <td>False</td>\n",
       "      <td>False</td>\n",
       "      <td>False</td>\n",
       "      <td>0</td>\n",
       "    </tr>\n",
       "    <tr>\n",
       "      <th>351684</th>\n",
       "      <td>3dc5f5047176a51ff1904458367b260e5a32b5d68d3740...</td>\n",
       "      <td>RN</td>\n",
       "      <td>SERVICOS DE ALOJAMENTO/ALIMENTACAO</td>\n",
       "      <td>SERVIÇO</td>\n",
       "      <td>ALIMENTACAO</td>\n",
       "      <td>ALOJAMENTO E ALIMENTACAO</td>\n",
       "      <td>ALTA</td>\n",
       "      <td>LESTE POTIGUAR</td>\n",
       "      <td>NATAL</td>\n",
       "      <td>DE R$ 81.000,01 A R$ 360.000,00</td>\n",
       "      <td>5 a 10</td>\n",
       "      <td>EMPRESA INDIVIDUAL DE RESPONSABILIDADE LIMITAD...</td>\n",
       "      <td>False</td>\n",
       "      <td>False</td>\n",
       "      <td>False</td>\n",
       "      <td>False</td>\n",
       "      <td>False</td>\n",
       "      <td>2</td>\n",
       "    </tr>\n",
       "    <tr>\n",
       "      <th>183987</th>\n",
       "      <td>b63b1a3d6c61db2e883ee8bb02f4f0dac3656082c255d7...</td>\n",
       "      <td>MA</td>\n",
       "      <td>COMERCIO VAREJISTA</td>\n",
       "      <td>COMERCIO</td>\n",
       "      <td>COMERCIO VAREJISTA</td>\n",
       "      <td>COMERCIO; REPARACAO DE VEICULOS AUTOMOTORES E ...</td>\n",
       "      <td>BAIXA</td>\n",
       "      <td>NORTE MARANHENSE</td>\n",
       "      <td>AGLOMERACAO URBANA DE SAO LUIS</td>\n",
       "      <td>DE R$ 81.000,01 A R$ 360.000,00</td>\n",
       "      <td>&lt;= 1</td>\n",
       "      <td>EMPRESARIO INDIVIDUAL</td>\n",
       "      <td>False</td>\n",
       "      <td>False</td>\n",
       "      <td>False</td>\n",
       "      <td>False</td>\n",
       "      <td>False</td>\n",
       "      <td>0</td>\n",
       "    </tr>\n",
       "    <tr>\n",
       "      <th>123085</th>\n",
       "      <td>f4a1f8d492cbff190c6f96bb835bbe3c65f2a38c759436...</td>\n",
       "      <td>AM</td>\n",
       "      <td>CULTURA, ESPORTE E RECREACAO</td>\n",
       "      <td>SERVIÇO</td>\n",
       "      <td>ATIVIDADES ESPORTIVAS E DE RECREACAO E LAZER</td>\n",
       "      <td>ARTES CULTURA ESPORTE E RECREACAO</td>\n",
       "      <td>MEDIA</td>\n",
       "      <td>CENTRO AMAZONENSE</td>\n",
       "      <td>MANAUS</td>\n",
       "      <td>NOT INFORMED</td>\n",
       "      <td>&lt;= 1</td>\n",
       "      <td>SOCIEDADE EMPRESARIA LIMITADA</td>\n",
       "      <td>False</td>\n",
       "      <td>False</td>\n",
       "      <td>False</td>\n",
       "      <td>False</td>\n",
       "      <td>False</td>\n",
       "      <td>0</td>\n",
       "    </tr>\n",
       "    <tr>\n",
       "      <th>409748</th>\n",
       "      <td>ab13321c07df21eab366c85036026f3c3ec01e9edcba3f...</td>\n",
       "      <td>AC</td>\n",
       "      <td>SERVICOS DIVERSOS</td>\n",
       "      <td>SERVIÇO</td>\n",
       "      <td>OUTRAS ATIVIDADES DE SERVICOS PESSOAIS</td>\n",
       "      <td>OUTRAS ATIVIDADES DE SERVICOS</td>\n",
       "      <td>MEDIA</td>\n",
       "      <td>VALE DO ACRE</td>\n",
       "      <td>BRASILEIA</td>\n",
       "      <td>ATE R$ 81.000,00</td>\n",
       "      <td>5 a 10</td>\n",
       "      <td>EMPRESARIO INDIVIDUAL</td>\n",
       "      <td>False</td>\n",
       "      <td>False</td>\n",
       "      <td>False</td>\n",
       "      <td>True</td>\n",
       "      <td>False</td>\n",
       "      <td>0</td>\n",
       "    </tr>\n",
       "  </tbody>\n",
       "</table>\n",
       "</div>"
      ],
      "text/plain": [
       "                                                       id sg_uf  \\\n",
       "445060  a9bd2cb83cc0cc0ec0da84504dd8f643a224d0369c9799...    MA   \n",
       "351684  3dc5f5047176a51ff1904458367b260e5a32b5d68d3740...    RN   \n",
       "183987  b63b1a3d6c61db2e883ee8bb02f4f0dac3656082c255d7...    MA   \n",
       "123085  f4a1f8d492cbff190c6f96bb835bbe3c65f2a38c759436...    AM   \n",
       "409748  ab13321c07df21eab366c85036026f3c3ec01e9edcba3f...    AC   \n",
       "\n",
       "                                   de_ramo     setor  \\\n",
       "445060                  COMERCIO VAREJISTA  COMERCIO   \n",
       "351684  SERVICOS DE ALOJAMENTO/ALIMENTACAO   SERVIÇO   \n",
       "183987                  COMERCIO VAREJISTA  COMERCIO   \n",
       "123085        CULTURA, ESPORTE E RECREACAO   SERVIÇO   \n",
       "409748                   SERVICOS DIVERSOS   SERVIÇO   \n",
       "\n",
       "                                          nm_divisao  \\\n",
       "445060                            COMERCIO VAREJISTA   \n",
       "351684                                   ALIMENTACAO   \n",
       "183987                            COMERCIO VAREJISTA   \n",
       "123085  ATIVIDADES ESPORTIVAS E DE RECREACAO E LAZER   \n",
       "409748        OUTRAS ATIVIDADES DE SERVICOS PESSOAIS   \n",
       "\n",
       "                                              nm_segmento de_nivel_atividade  \\\n",
       "445060  COMERCIO; REPARACAO DE VEICULOS AUTOMOTORES E ...              BAIXA   \n",
       "351684                           ALOJAMENTO E ALIMENTACAO               ALTA   \n",
       "183987  COMERCIO; REPARACAO DE VEICULOS AUTOMOTORES E ...              BAIXA   \n",
       "123085                  ARTES CULTURA ESPORTE E RECREACAO              MEDIA   \n",
       "409748                      OUTRAS ATIVIDADES DE SERVICOS              MEDIA   \n",
       "\n",
       "           nm_meso_regiao                 nm_micro_regiao  \\\n",
       "445060   NORTE MARANHENSE  AGLOMERACAO URBANA DE SAO LUIS   \n",
       "351684     LESTE POTIGUAR                           NATAL   \n",
       "183987   NORTE MARANHENSE  AGLOMERACAO URBANA DE SAO LUIS   \n",
       "123085  CENTRO AMAZONENSE                          MANAUS   \n",
       "409748       VALE DO ACRE                       BRASILEIA   \n",
       "\n",
       "          de_faixa_faturamento_estimado idade_emp_cat  \\\n",
       "445060  DE R$ 81.000,01 A R$ 360.000,00          > 20   \n",
       "351684  DE R$ 81.000,01 A R$ 360.000,00        5 a 10   \n",
       "183987  DE R$ 81.000,01 A R$ 360.000,00          <= 1   \n",
       "123085                     NOT INFORMED          <= 1   \n",
       "409748                 ATE R$ 81.000,00        5 a 10   \n",
       "\n",
       "                                     de_natureza_juridica  fl_me  fl_sa  \\\n",
       "445060                      SOCIEDADE EMPRESARIA LIMITADA  False  False   \n",
       "351684  EMPRESA INDIVIDUAL DE RESPONSABILIDADE LIMITAD...  False  False   \n",
       "183987                              EMPRESARIO INDIVIDUAL  False  False   \n",
       "123085                      SOCIEDADE EMPRESARIA LIMITADA  False  False   \n",
       "409748                              EMPRESARIO INDIVIDUAL  False  False   \n",
       "\n",
       "        fl_epp  fl_mei  fl_ltda  qt_filiais  \n",
       "445060   False   False    False           0  \n",
       "351684   False   False    False           2  \n",
       "183987   False   False    False           0  \n",
       "123085   False   False    False           0  \n",
       "409748   False    True    False           0  "
      ]
     },
     "execution_count": 24,
     "metadata": {},
     "output_type": "execute_result"
    }
   ],
   "source": [
    "clean_data.sample(5)"
   ]
  },
  {
   "cell_type": "markdown",
   "metadata": {},
   "source": [
    "### Data Expoitation"
   ]
  },
  {
   "cell_type": "markdown",
   "metadata": {},
   "source": [
    "##### Encoding features"
   ]
  },
  {
   "cell_type": "code",
   "execution_count": 26,
   "metadata": {},
   "outputs": [],
   "source": [
    "feature_transform = list(clean_data.select_dtypes(include=['object','bool']).columns)\n",
    "feature_transform.remove('id')\n",
    "encoder = LabelEncoder()\n",
    "for label in feature_transform:\n",
    "    label_feature = 'cod_' + label\n",
    "    clean_data[label_feature] = encoder.fit_transform(clean_data[label])"
   ]
  },
  {
   "cell_type": "code",
   "execution_count": 27,
   "metadata": {},
   "outputs": [
    {
     "data": {
      "text/html": [
       "<div>\n",
       "<style scoped>\n",
       "    .dataframe tbody tr th:only-of-type {\n",
       "        vertical-align: middle;\n",
       "    }\n",
       "\n",
       "    .dataframe tbody tr th {\n",
       "        vertical-align: top;\n",
       "    }\n",
       "\n",
       "    .dataframe thead th {\n",
       "        text-align: right;\n",
       "    }\n",
       "</style>\n",
       "<table border=\"1\" class=\"dataframe\">\n",
       "  <thead>\n",
       "    <tr style=\"text-align: right;\">\n",
       "      <th></th>\n",
       "      <th>id</th>\n",
       "      <th>sg_uf</th>\n",
       "      <th>de_ramo</th>\n",
       "      <th>setor</th>\n",
       "      <th>nm_divisao</th>\n",
       "      <th>nm_segmento</th>\n",
       "      <th>de_nivel_atividade</th>\n",
       "      <th>nm_meso_regiao</th>\n",
       "      <th>nm_micro_regiao</th>\n",
       "      <th>de_faixa_faturamento_estimado</th>\n",
       "      <th>...</th>\n",
       "      <th>cod_nm_meso_regiao</th>\n",
       "      <th>cod_nm_micro_regiao</th>\n",
       "      <th>cod_de_faixa_faturamento_estimado</th>\n",
       "      <th>cod_idade_emp_cat</th>\n",
       "      <th>cod_de_natureza_juridica</th>\n",
       "      <th>cod_fl_me</th>\n",
       "      <th>cod_fl_sa</th>\n",
       "      <th>cod_fl_epp</th>\n",
       "      <th>cod_fl_mei</th>\n",
       "      <th>cod_fl_ltda</th>\n",
       "    </tr>\n",
       "  </thead>\n",
       "  <tbody>\n",
       "    <tr>\n",
       "      <th>0</th>\n",
       "      <td>a6984c3ae395090e3bee8ad63c3758b110de096d5d8195...</td>\n",
       "      <td>RN</td>\n",
       "      <td>INDUSTRIA DA CONSTRUCAO</td>\n",
       "      <td>CONSTRUÇÃO CIVIL</td>\n",
       "      <td>CONSTRUCAO DE EDIFICIOS</td>\n",
       "      <td>CONSTRUCAO</td>\n",
       "      <td>ALTA</td>\n",
       "      <td>LESTE POTIGUAR</td>\n",
       "      <td>NATAL</td>\n",
       "      <td>DE R$ 1.500.000,01 A R$ 4.800.000,00</td>\n",
       "      <td>...</td>\n",
       "      <td>6</td>\n",
       "      <td>48</td>\n",
       "      <td>2</td>\n",
       "      <td>1</td>\n",
       "      <td>60</td>\n",
       "      <td>0</td>\n",
       "      <td>0</td>\n",
       "      <td>0</td>\n",
       "      <td>0</td>\n",
       "      <td>0</td>\n",
       "    </tr>\n",
       "    <tr>\n",
       "      <th>1</th>\n",
       "      <td>6178f41ade1365e44bc2c46654c2c8c0eaae27dcb476c4...</td>\n",
       "      <td>PI</td>\n",
       "      <td>SERVICOS DE ALOJAMENTO/ALIMENTACAO</td>\n",
       "      <td>SERVIÇO</td>\n",
       "      <td>ALIMENTACAO</td>\n",
       "      <td>ALOJAMENTO E ALIMENTACAO</td>\n",
       "      <td>BAIXA</td>\n",
       "      <td>CENTRO NORTE PIAUIENSE</td>\n",
       "      <td>TERESINA</td>\n",
       "      <td>DE R$ 81.000,01 A R$ 360.000,00</td>\n",
       "      <td>...</td>\n",
       "      <td>4</td>\n",
       "      <td>70</td>\n",
       "      <td>10</td>\n",
       "      <td>0</td>\n",
       "      <td>17</td>\n",
       "      <td>0</td>\n",
       "      <td>0</td>\n",
       "      <td>0</td>\n",
       "      <td>1</td>\n",
       "      <td>0</td>\n",
       "    </tr>\n",
       "    <tr>\n",
       "      <th>2</th>\n",
       "      <td>4a7e5069a397f12fdd7fd57111d6dc5d3ba558958efc02...</td>\n",
       "      <td>AM</td>\n",
       "      <td>TRANSPORTE, ARMAZENAGEM E CORREIO</td>\n",
       "      <td>SERVIÇO</td>\n",
       "      <td>TRANSPORTE TERRESTRE</td>\n",
       "      <td>TRANSPORTE ARMAZENAGEM E CORREIO</td>\n",
       "      <td>MEDIA</td>\n",
       "      <td>CENTRO AMAZONENSE</td>\n",
       "      <td>MANAUS</td>\n",
       "      <td>ATE R$ 81.000,00</td>\n",
       "      <td>...</td>\n",
       "      <td>2</td>\n",
       "      <td>43</td>\n",
       "      <td>1</td>\n",
       "      <td>3</td>\n",
       "      <td>17</td>\n",
       "      <td>0</td>\n",
       "      <td>0</td>\n",
       "      <td>0</td>\n",
       "      <td>1</td>\n",
       "      <td>0</td>\n",
       "    </tr>\n",
       "    <tr>\n",
       "      <th>3</th>\n",
       "      <td>3348900fe63216a439d2e5238c79ddd46ede454df7b9d8...</td>\n",
       "      <td>AM</td>\n",
       "      <td>SERVICOS DIVERSOS</td>\n",
       "      <td>SERVIÇO</td>\n",
       "      <td>REPARACAO E MANUTENCAO DE EQUIPAMENTOS DE INFO...</td>\n",
       "      <td>OUTRAS ATIVIDADES DE SERVICOS</td>\n",
       "      <td>MEDIA</td>\n",
       "      <td>CENTRO AMAZONENSE</td>\n",
       "      <td>MANAUS</td>\n",
       "      <td>DE R$ 81.000,01 A R$ 360.000,00</td>\n",
       "      <td>...</td>\n",
       "      <td>2</td>\n",
       "      <td>43</td>\n",
       "      <td>10</td>\n",
       "      <td>3</td>\n",
       "      <td>17</td>\n",
       "      <td>0</td>\n",
       "      <td>0</td>\n",
       "      <td>0</td>\n",
       "      <td>0</td>\n",
       "      <td>0</td>\n",
       "    </tr>\n",
       "    <tr>\n",
       "      <th>4</th>\n",
       "      <td>1f9bcabc9d3173c1fe769899e4fac14b053037b953a1e4...</td>\n",
       "      <td>RN</td>\n",
       "      <td>SERVICOS PROFISSIONAIS, TECNICOS E CIENTIFICOS</td>\n",
       "      <td>SERVIÇO</td>\n",
       "      <td>SERVICOS DE ARQUITETURA E ENGENHARIA TESTES E ...</td>\n",
       "      <td>ATIVIDADES PROFISSIONAIS CIENTIFICAS E TECNICAS</td>\n",
       "      <td>ALTA</td>\n",
       "      <td>LESTE POTIGUAR</td>\n",
       "      <td>NATAL</td>\n",
       "      <td>DE R$ 81.000,01 A R$ 360.000,00</td>\n",
       "      <td>...</td>\n",
       "      <td>6</td>\n",
       "      <td>48</td>\n",
       "      <td>10</td>\n",
       "      <td>0</td>\n",
       "      <td>17</td>\n",
       "      <td>0</td>\n",
       "      <td>0</td>\n",
       "      <td>0</td>\n",
       "      <td>0</td>\n",
       "      <td>0</td>\n",
       "    </tr>\n",
       "  </tbody>\n",
       "</table>\n",
       "<p>5 rows × 34 columns</p>\n",
       "</div>"
      ],
      "text/plain": [
       "                                                  id sg_uf  \\\n",
       "0  a6984c3ae395090e3bee8ad63c3758b110de096d5d8195...    RN   \n",
       "1  6178f41ade1365e44bc2c46654c2c8c0eaae27dcb476c4...    PI   \n",
       "2  4a7e5069a397f12fdd7fd57111d6dc5d3ba558958efc02...    AM   \n",
       "3  3348900fe63216a439d2e5238c79ddd46ede454df7b9d8...    AM   \n",
       "4  1f9bcabc9d3173c1fe769899e4fac14b053037b953a1e4...    RN   \n",
       "\n",
       "                                          de_ramo             setor  \\\n",
       "0                         INDUSTRIA DA CONSTRUCAO  CONSTRUÇÃO CIVIL   \n",
       "1              SERVICOS DE ALOJAMENTO/ALIMENTACAO           SERVIÇO   \n",
       "2               TRANSPORTE, ARMAZENAGEM E CORREIO           SERVIÇO   \n",
       "3                               SERVICOS DIVERSOS           SERVIÇO   \n",
       "4  SERVICOS PROFISSIONAIS, TECNICOS E CIENTIFICOS           SERVIÇO   \n",
       "\n",
       "                                          nm_divisao  \\\n",
       "0                            CONSTRUCAO DE EDIFICIOS   \n",
       "1                                        ALIMENTACAO   \n",
       "2                               TRANSPORTE TERRESTRE   \n",
       "3  REPARACAO E MANUTENCAO DE EQUIPAMENTOS DE INFO...   \n",
       "4  SERVICOS DE ARQUITETURA E ENGENHARIA TESTES E ...   \n",
       "\n",
       "                                       nm_segmento de_nivel_atividade  \\\n",
       "0                                       CONSTRUCAO               ALTA   \n",
       "1                         ALOJAMENTO E ALIMENTACAO              BAIXA   \n",
       "2                 TRANSPORTE ARMAZENAGEM E CORREIO              MEDIA   \n",
       "3                    OUTRAS ATIVIDADES DE SERVICOS              MEDIA   \n",
       "4  ATIVIDADES PROFISSIONAIS CIENTIFICAS E TECNICAS               ALTA   \n",
       "\n",
       "           nm_meso_regiao nm_micro_regiao  \\\n",
       "0          LESTE POTIGUAR           NATAL   \n",
       "1  CENTRO NORTE PIAUIENSE        TERESINA   \n",
       "2       CENTRO AMAZONENSE          MANAUS   \n",
       "3       CENTRO AMAZONENSE          MANAUS   \n",
       "4          LESTE POTIGUAR           NATAL   \n",
       "\n",
       "          de_faixa_faturamento_estimado  ... cod_nm_meso_regiao  \\\n",
       "0  DE R$ 1.500.000,01 A R$ 4.800.000,00  ...                  6   \n",
       "1       DE R$ 81.000,01 A R$ 360.000,00  ...                  4   \n",
       "2                      ATE R$ 81.000,00  ...                  2   \n",
       "3       DE R$ 81.000,01 A R$ 360.000,00  ...                  2   \n",
       "4       DE R$ 81.000,01 A R$ 360.000,00  ...                  6   \n",
       "\n",
       "  cod_nm_micro_regiao  cod_de_faixa_faturamento_estimado  cod_idade_emp_cat  \\\n",
       "0                  48                                  2                  1   \n",
       "1                  70                                 10                  0   \n",
       "2                  43                                  1                  3   \n",
       "3                  43                                 10                  3   \n",
       "4                  48                                 10                  0   \n",
       "\n",
       "   cod_de_natureza_juridica  cod_fl_me  cod_fl_sa  cod_fl_epp  cod_fl_mei  \\\n",
       "0                        60          0          0           0           0   \n",
       "1                        17          0          0           0           1   \n",
       "2                        17          0          0           0           1   \n",
       "3                        17          0          0           0           0   \n",
       "4                        17          0          0           0           0   \n",
       "\n",
       "   cod_fl_ltda  \n",
       "0            0  \n",
       "1            0  \n",
       "2            0  \n",
       "3            0  \n",
       "4            0  \n",
       "\n",
       "[5 rows x 34 columns]"
      ]
     },
     "execution_count": 27,
     "metadata": {},
     "output_type": "execute_result"
    }
   ],
   "source": [
    "clean_data.head()"
   ]
  },
  {
   "cell_type": "code",
   "execution_count": 28,
   "metadata": {},
   "outputs": [
    {
     "data": {
      "text/html": [
       "<div>\n",
       "<style scoped>\n",
       "    .dataframe tbody tr th:only-of-type {\n",
       "        vertical-align: middle;\n",
       "    }\n",
       "\n",
       "    .dataframe tbody tr th {\n",
       "        vertical-align: top;\n",
       "    }\n",
       "\n",
       "    .dataframe thead th {\n",
       "        text-align: right;\n",
       "    }\n",
       "</style>\n",
       "<table border=\"1\" class=\"dataframe\">\n",
       "  <thead>\n",
       "    <tr style=\"text-align: right;\">\n",
       "      <th></th>\n",
       "      <th>qt_filiais</th>\n",
       "      <th>cod_sg_uf</th>\n",
       "      <th>cod_de_ramo</th>\n",
       "      <th>cod_setor</th>\n",
       "      <th>cod_nm_divisao</th>\n",
       "      <th>cod_nm_segmento</th>\n",
       "      <th>cod_de_nivel_atividade</th>\n",
       "      <th>cod_nm_meso_regiao</th>\n",
       "      <th>cod_nm_micro_regiao</th>\n",
       "      <th>cod_de_faixa_faturamento_estimado</th>\n",
       "      <th>cod_idade_emp_cat</th>\n",
       "      <th>cod_de_natureza_juridica</th>\n",
       "      <th>cod_fl_me</th>\n",
       "      <th>cod_fl_sa</th>\n",
       "      <th>cod_fl_epp</th>\n",
       "      <th>cod_fl_mei</th>\n",
       "      <th>cod_fl_ltda</th>\n",
       "    </tr>\n",
       "  </thead>\n",
       "  <tbody>\n",
       "    <tr>\n",
       "      <th>count</th>\n",
       "      <td>462298.000000</td>\n",
       "      <td>462298.000000</td>\n",
       "      <td>462298.000000</td>\n",
       "      <td>462298.000000</td>\n",
       "      <td>462298.000000</td>\n",
       "      <td>462298.000000</td>\n",
       "      <td>462298.000000</td>\n",
       "      <td>462298.000000</td>\n",
       "      <td>462298.000000</td>\n",
       "      <td>462298.000000</td>\n",
       "      <td>462298.000000</td>\n",
       "      <td>462298.000000</td>\n",
       "      <td>462298.000000</td>\n",
       "      <td>462298.000000</td>\n",
       "      <td>462298.0</td>\n",
       "      <td>462298.000000</td>\n",
       "      <td>462298.000000</td>\n",
       "    </tr>\n",
       "    <tr>\n",
       "      <th>mean</th>\n",
       "      <td>28.737044</td>\n",
       "      <td>2.693442</td>\n",
       "      <td>12.867036</td>\n",
       "      <td>2.834875</td>\n",
       "      <td>35.215902</td>\n",
       "      <td>10.458488</td>\n",
       "      <td>1.235606</td>\n",
       "      <td>7.543833</td>\n",
       "      <td>38.700637</td>\n",
       "      <td>7.625387</td>\n",
       "      <td>2.238026</td>\n",
       "      <td>25.368922</td>\n",
       "      <td>0.002628</td>\n",
       "      <td>0.018239</td>\n",
       "      <td>0.0</td>\n",
       "      <td>0.326413</td>\n",
       "      <td>0.002687</td>\n",
       "    </tr>\n",
       "    <tr>\n",
       "      <th>std</th>\n",
       "      <td>468.626094</td>\n",
       "      <td>1.412396</td>\n",
       "      <td>9.777025</td>\n",
       "      <td>1.887715</td>\n",
       "      <td>22.799909</td>\n",
       "      <td>4.695568</td>\n",
       "      <td>1.002345</td>\n",
       "      <td>4.595003</td>\n",
       "      <td>20.728003</td>\n",
       "      <td>3.774880</td>\n",
       "      <td>1.837414</td>\n",
       "      <td>18.805287</td>\n",
       "      <td>0.051198</td>\n",
       "      <td>0.133816</td>\n",
       "      <td>0.0</td>\n",
       "      <td>0.468901</td>\n",
       "      <td>0.051763</td>\n",
       "    </tr>\n",
       "    <tr>\n",
       "      <th>min</th>\n",
       "      <td>0.000000</td>\n",
       "      <td>0.000000</td>\n",
       "      <td>0.000000</td>\n",
       "      <td>0.000000</td>\n",
       "      <td>0.000000</td>\n",
       "      <td>0.000000</td>\n",
       "      <td>0.000000</td>\n",
       "      <td>0.000000</td>\n",
       "      <td>0.000000</td>\n",
       "      <td>0.000000</td>\n",
       "      <td>0.000000</td>\n",
       "      <td>0.000000</td>\n",
       "      <td>0.000000</td>\n",
       "      <td>0.000000</td>\n",
       "      <td>0.0</td>\n",
       "      <td>0.000000</td>\n",
       "      <td>0.000000</td>\n",
       "    </tr>\n",
       "    <tr>\n",
       "      <th>25%</th>\n",
       "      <td>0.000000</td>\n",
       "      <td>2.000000</td>\n",
       "      <td>5.000000</td>\n",
       "      <td>1.000000</td>\n",
       "      <td>28.000000</td>\n",
       "      <td>9.000000</td>\n",
       "      <td>0.000000</td>\n",
       "      <td>4.000000</td>\n",
       "      <td>27.000000</td>\n",
       "      <td>7.000000</td>\n",
       "      <td>0.000000</td>\n",
       "      <td>17.000000</td>\n",
       "      <td>0.000000</td>\n",
       "      <td>0.000000</td>\n",
       "      <td>0.0</td>\n",
       "      <td>0.000000</td>\n",
       "      <td>0.000000</td>\n",
       "    </tr>\n",
       "    <tr>\n",
       "      <th>50%</th>\n",
       "      <td>0.000000</td>\n",
       "      <td>3.000000</td>\n",
       "      <td>5.000000</td>\n",
       "      <td>2.000000</td>\n",
       "      <td>30.000000</td>\n",
       "      <td>9.000000</td>\n",
       "      <td>2.000000</td>\n",
       "      <td>8.000000</td>\n",
       "      <td>43.000000</td>\n",
       "      <td>10.000000</td>\n",
       "      <td>3.000000</td>\n",
       "      <td>17.000000</td>\n",
       "      <td>0.000000</td>\n",
       "      <td>0.000000</td>\n",
       "      <td>0.0</td>\n",
       "      <td>0.000000</td>\n",
       "      <td>0.000000</td>\n",
       "    </tr>\n",
       "    <tr>\n",
       "      <th>75%</th>\n",
       "      <td>0.000000</td>\n",
       "      <td>4.000000</td>\n",
       "      <td>22.000000</td>\n",
       "      <td>5.000000</td>\n",
       "      <td>36.000000</td>\n",
       "      <td>13.000000</td>\n",
       "      <td>2.000000</td>\n",
       "      <td>10.000000</td>\n",
       "      <td>49.000000</td>\n",
       "      <td>10.000000</td>\n",
       "      <td>4.000000</td>\n",
       "      <td>17.000000</td>\n",
       "      <td>0.000000</td>\n",
       "      <td>0.000000</td>\n",
       "      <td>0.0</td>\n",
       "      <td>1.000000</td>\n",
       "      <td>0.000000</td>\n",
       "    </tr>\n",
       "    <tr>\n",
       "      <th>max</th>\n",
       "      <td>9647.000000</td>\n",
       "      <td>5.000000</td>\n",
       "      <td>32.000000</td>\n",
       "      <td>5.000000</td>\n",
       "      <td>87.000000</td>\n",
       "      <td>21.000000</td>\n",
       "      <td>4.000000</td>\n",
       "      <td>19.000000</td>\n",
       "      <td>73.000000</td>\n",
       "      <td>12.000000</td>\n",
       "      <td>5.000000</td>\n",
       "      <td>66.000000</td>\n",
       "      <td>1.000000</td>\n",
       "      <td>1.000000</td>\n",
       "      <td>0.0</td>\n",
       "      <td>1.000000</td>\n",
       "      <td>1.000000</td>\n",
       "    </tr>\n",
       "  </tbody>\n",
       "</table>\n",
       "</div>"
      ],
      "text/plain": [
       "          qt_filiais      cod_sg_uf    cod_de_ramo      cod_setor  \\\n",
       "count  462298.000000  462298.000000  462298.000000  462298.000000   \n",
       "mean       28.737044       2.693442      12.867036       2.834875   \n",
       "std       468.626094       1.412396       9.777025       1.887715   \n",
       "min         0.000000       0.000000       0.000000       0.000000   \n",
       "25%         0.000000       2.000000       5.000000       1.000000   \n",
       "50%         0.000000       3.000000       5.000000       2.000000   \n",
       "75%         0.000000       4.000000      22.000000       5.000000   \n",
       "max      9647.000000       5.000000      32.000000       5.000000   \n",
       "\n",
       "       cod_nm_divisao  cod_nm_segmento  cod_de_nivel_atividade  \\\n",
       "count   462298.000000    462298.000000           462298.000000   \n",
       "mean        35.215902        10.458488                1.235606   \n",
       "std         22.799909         4.695568                1.002345   \n",
       "min          0.000000         0.000000                0.000000   \n",
       "25%         28.000000         9.000000                0.000000   \n",
       "50%         30.000000         9.000000                2.000000   \n",
       "75%         36.000000        13.000000                2.000000   \n",
       "max         87.000000        21.000000                4.000000   \n",
       "\n",
       "       cod_nm_meso_regiao  cod_nm_micro_regiao  \\\n",
       "count       462298.000000        462298.000000   \n",
       "mean             7.543833            38.700637   \n",
       "std              4.595003            20.728003   \n",
       "min              0.000000             0.000000   \n",
       "25%              4.000000            27.000000   \n",
       "50%              8.000000            43.000000   \n",
       "75%             10.000000            49.000000   \n",
       "max             19.000000            73.000000   \n",
       "\n",
       "       cod_de_faixa_faturamento_estimado  cod_idade_emp_cat  \\\n",
       "count                      462298.000000      462298.000000   \n",
       "mean                            7.625387           2.238026   \n",
       "std                             3.774880           1.837414   \n",
       "min                             0.000000           0.000000   \n",
       "25%                             7.000000           0.000000   \n",
       "50%                            10.000000           3.000000   \n",
       "75%                            10.000000           4.000000   \n",
       "max                            12.000000           5.000000   \n",
       "\n",
       "       cod_de_natureza_juridica      cod_fl_me      cod_fl_sa  cod_fl_epp  \\\n",
       "count             462298.000000  462298.000000  462298.000000    462298.0   \n",
       "mean                  25.368922       0.002628       0.018239         0.0   \n",
       "std                   18.805287       0.051198       0.133816         0.0   \n",
       "min                    0.000000       0.000000       0.000000         0.0   \n",
       "25%                   17.000000       0.000000       0.000000         0.0   \n",
       "50%                   17.000000       0.000000       0.000000         0.0   \n",
       "75%                   17.000000       0.000000       0.000000         0.0   \n",
       "max                   66.000000       1.000000       1.000000         0.0   \n",
       "\n",
       "          cod_fl_mei    cod_fl_ltda  \n",
       "count  462298.000000  462298.000000  \n",
       "mean        0.326413       0.002687  \n",
       "std         0.468901       0.051763  \n",
       "min         0.000000       0.000000  \n",
       "25%         0.000000       0.000000  \n",
       "50%         0.000000       0.000000  \n",
       "75%         1.000000       0.000000  \n",
       "max         1.000000       1.000000  "
      ]
     },
     "execution_count": 28,
     "metadata": {},
     "output_type": "execute_result"
    }
   ],
   "source": [
    "clean_data.describe()"
   ]
  },
  {
   "cell_type": "code",
   "execution_count": 29,
   "metadata": {},
   "outputs": [
    {
     "name": "stdout",
     "output_type": "stream",
     "text": [
      "Total number of features selected to train the model: 10\n"
     ]
    }
   ],
   "source": [
    "#Selecting features encoded to train model\n",
    "train = ['cod_de_natureza_juridica','cod_sg_uf','cod_de_ramo','cod_setor','cod_nm_divisao','cod_nm_segmento',\n",
    "         'cod_de_nivel_atividade','cod_nm_meso_regiao','cod_de_faixa_faturamento_estimado', 'cod_idade_emp_cat']\n",
    "print('Total number of features selected to train the model:', len(train))"
   ]
  },
  {
   "cell_type": "code",
   "execution_count": 30,
   "metadata": {
    "scrolled": true
   },
   "outputs": [
    {
     "data": {
      "image/png": "[encoded data removed]",
      "text/plain": [
       "<Figure size 432x288 with 2 Axes>"
      ]
     },
     "metadata": {
      "needs_background": "light"
     },
     "output_type": "display_data"
    }
   ],
   "source": [
    "# Correlation between selected features\n",
    "sns.heatmap(clean_data[train].corr());"
   ]
  },
  {
   "cell_type": "markdown",
   "metadata": {},
   "source": [
    "### Analysing Portfolios"
   ]
  },
  {
   "cell_type": "code",
   "execution_count": 31,
   "metadata": {},
   "outputs": [
    {
     "name": "stdout",
     "output_type": "stream",
     "text": [
      "First company has a portfolio with 555 leads\n",
      "Second company has a portfolio with 566 leads\n",
      "Third company has a portfolio with 265 leads\n"
     ]
    }
   ],
   "source": [
    "# Checking potential leads\n",
    "print('First company has a portfolio with', df1.shape[0], 'leads')\n",
    "print('Second company has a portfolio with', df2.shape[0], 'leads')\n",
    "print('Third company has a portfolio with', df3.shape[0], 'leads')"
   ]
  },
  {
   "cell_type": "code",
   "execution_count": 32,
   "metadata": {},
   "outputs": [],
   "source": [
    "# Adding Id to the portfolios\n",
    "df1['portfolio'] = 1\n",
    "df2['portfolio'] = 2\n",
    "df3['portfolio'] = 3"
   ]
  },
  {
   "cell_type": "code",
   "execution_count": 33,
   "metadata": {},
   "outputs": [
    {
     "name": "stdout",
     "output_type": "stream",
     "text": [
      "\n",
      "*** Original database***\n",
      "0.0    461020\n",
      "2.0       566\n",
      "1.0       555\n",
      "3.0       265\n",
      "Name: portfolio, dtype: int64\n",
      "\n",
      "*** Processed database***\n",
      "0.0    461020\n",
      "2.0       566\n",
      "1.0       555\n",
      "3.0       265\n",
      "Name: portfolio, dtype: int64\n"
     ]
    }
   ],
   "source": [
    "# Appending leads\n",
    "df_clientes = df1.append(df2).append(df3)\n",
    "# Identifying leads in the market database\n",
    "df = df.join(df_clientes.set_index('id'), on='id')\n",
    "clean_data = clean_data.join(df_clientes.set_index('id'), on='id')\n",
    "# Filling remaining data in market database with 0\n",
    "df['portfolio'].fillna(0, inplace=True)\n",
    "clean_data['portfolio'].fillna(0, inplace=True)\n",
    "print('\\n*** Original database***')\n",
    "print(df['portfolio'].value_counts())\n",
    "print('\\n*** Processed database***')\n",
    "print(clean_data['portfolio'].value_counts())"
   ]
  },
  {
   "cell_type": "code",
   "execution_count": 34,
   "metadata": {},
   "outputs": [],
   "source": [
    "# Separating portfolios for Analysis\n",
    "df_me = df.query('portfolio == 0')\n",
    "df_p1 = df.query('portfolio == 1')\n",
    "df_p2 = df.query('portfolio == 2')\n",
    "df_p3 = df.query('portfolio == 3')"
   ]
  },
  {
   "cell_type": "code",
   "execution_count": 35,
   "metadata": {},
   "outputs": [
    {
     "data": {
      "image/png": "[encoded data removed]",
      "text/plain": [
       "<Figure size 360x360 with 1 Axes>"
      ]
     },
     "metadata": {
      "needs_background": "light"
     },
     "output_type": "display_data"
    }
   ],
   "source": [
    "# Analysing leads by UF\n",
    "df_uf = df[['sg_uf','portfolio', 'setor']]\n",
    "\n",
    "# Leads\n",
    "sns.catplot(x=\"sg_uf\", \n",
    "            kind=\"count\",\n",
    "            palette=\"Blues_d\", \n",
    "            data=df_uf.query('portfolio in (0,1,2,3)'));\n",
    "plt.title(\"Leads by UF\");"
   ]
  },
  {
   "cell_type": "code",
   "execution_count": 36,
   "metadata": {},
   "outputs": [
    {
     "data": {
      "image/png": "[encoded data removed]",
      "text/plain": [
       "<Figure size 360x360 with 1 Axes>"
      ]
     },
     "metadata": {
      "needs_background": "light"
     },
     "output_type": "display_data"
    }
   ],
   "source": [
    "# Sector\n",
    "sector = sns.catplot(x=\"setor\", \n",
    "            kind=\"count\",\n",
    "            palette=\"Blues_d\", \n",
    "            data=df_uf.query('portfolio in (0,1,2,3)'))\n",
    "sector.set_xticklabels(rotation=80)\n",
    "plt.title(\"Leads by Sector\");"
   ]
  },
  {
   "cell_type": "code",
   "execution_count": 37,
   "metadata": {},
   "outputs": [
    {
     "name": "stdout",
     "output_type": "stream",
     "text": [
      "Portfolios by UF\n"
     ]
    },
    {
     "data": {
      "image/png": "[encoded data removed]",
      "text/plain": [
       "<Figure size 1080x360 with 3 Axes>"
      ]
     },
     "metadata": {
      "needs_background": "light"
     },
     "output_type": "display_data"
    }
   ],
   "source": [
    "# Portfolios by UF\n",
    "sns.catplot(x=\"sg_uf\", \n",
    "            kind=\"count\", \n",
    "            palette=\"Blues_d\", \n",
    "            data=df_uf.query('portfolio in (1,2,3)'),\n",
    "            col=\"portfolio\")\n",
    "print('Portfolios by UF');"
   ]
  },
  {
   "cell_type": "code",
   "execution_count": 38,
   "metadata": {},
   "outputs": [
    {
     "name": "stdout",
     "output_type": "stream",
     "text": [
      "Portfolios by Sector\n"
     ]
    },
    {
     "data": {
      "image/png": "[encoded data removed]",
      "text/plain": [
       "<Figure size 1080x360 with 3 Axes>"
      ]
     },
     "metadata": {
      "needs_background": "light"
     },
     "output_type": "display_data"
    }
   ],
   "source": [
    "# Portfolios by Sector\n",
    "sector = sns.catplot(x=\"setor\", \n",
    "            kind=\"count\", \n",
    "            palette=\"Blues_d\", \n",
    "            data=df_uf.query('portfolio in (1,2,3)'),\n",
    "            col=\"portfolio\")\n",
    "sector.set_xticklabels(rotation=80)\n",
    "print('Portfolios by Sector');"
   ]
  },
  {
   "cell_type": "code",
   "execution_count": 39,
   "metadata": {},
   "outputs": [
    {
     "name": "stdout",
     "output_type": "stream",
     "text": [
      "Leads from portfolio 1 has an income of DE R$ 81.000,01 A R$ 360.000,00\n",
      "Leads from portfolio 2 has an income of DE R$ 10.000.000,01 A R$ 30.000.000,00\n",
      "Leads from portfolio 3 has an income of DE R$ 30.000.000,01 A R$ 100.000.000,00\n"
     ]
    }
   ],
   "source": [
    "# Analyzing the incomes of portfolios\n",
    "fat1 = df_p1['de_faixa_faturamento_estimado'].value_counts().index[0]\n",
    "fat2 = df_p2['de_faixa_faturamento_estimado'].value_counts().index[0]\n",
    "fat3 = df_p3['de_faixa_faturamento_estimado'].value_counts().index[0]\n",
    "print('Leads from portfolio 1 has an income of', fat1)\n",
    "print('Leads from portfolio 2 has an income of', fat2)\n",
    "print('Leads from portfolio 3 has an income of', fat3)"
   ]
  },
  {
   "cell_type": "code",
   "execution_count": 40,
   "metadata": {},
   "outputs": [
    {
     "name": "stdout",
     "output_type": "stream",
     "text": [
      "Leads from portfolio 1 are from COMERCIO VAREJISTA\n",
      "Leads from portfolio 2 are from ADMINISTRACAO PUBLICA, DEFESA E SEGURIDADE SOCIAL\n",
      "Leads from portfolio 3 are from ADMINISTRACAO PUBLICA, DEFESA E SEGURIDADE SOCIAL\n"
     ]
    }
   ],
   "source": [
    "# Analyzing the business activity of portfolios\n",
    "ramo1 = df_p1['de_ramo'].value_counts().index[0]\n",
    "ramo2 = df_p2['de_ramo'].value_counts().index[0]\n",
    "ramo3 = df_p3['de_ramo'].value_counts().index[0]\n",
    "print('Leads from portfolio 1 are from', ramo1)\n",
    "print('Leads from portfolio 2 are from', ramo2)\n",
    "print('Leads from portfolio 3 are from', ramo3)"
   ]
  },
  {
   "cell_type": "code",
   "execution_count": 41,
   "metadata": {},
   "outputs": [
    {
     "ename": "NameError",
     "evalue": "name 'setor1' is not defined",
     "output_type": "error",
     "traceback": [
      "\u001b[0;31m------------------------------------------------------------\u001b[0m",
      "\u001b[0;31mNameError\u001b[0m                  Traceback (most recent call last)",
      "\u001b[0;32m<ipython-input-41-17ef8e803306>\u001b[0m in \u001b[0;36m<module>\u001b[0;34m\u001b[0m\n\u001b[1;32m      3\u001b[0m \u001b[0mscetor2\u001b[0m \u001b[0;34m=\u001b[0m \u001b[0mdf_p2\u001b[0m\u001b[0;34m[\u001b[0m\u001b[0;34m'setor'\u001b[0m\u001b[0;34m]\u001b[0m\u001b[0;34m.\u001b[0m\u001b[0mvalue_counts\u001b[0m\u001b[0;34m(\u001b[0m\u001b[0;34m)\u001b[0m\u001b[0;34m.\u001b[0m\u001b[0mindex\u001b[0m\u001b[0;34m[\u001b[0m\u001b[0;36m0\u001b[0m\u001b[0;34m]\u001b[0m\u001b[0;34m\u001b[0m\u001b[0;34m\u001b[0m\u001b[0m\n\u001b[1;32m      4\u001b[0m \u001b[0mscetor3\u001b[0m \u001b[0;34m=\u001b[0m \u001b[0mdf_p3\u001b[0m\u001b[0;34m[\u001b[0m\u001b[0;34m'setor'\u001b[0m\u001b[0;34m]\u001b[0m\u001b[0;34m.\u001b[0m\u001b[0mvalue_counts\u001b[0m\u001b[0;34m(\u001b[0m\u001b[0;34m)\u001b[0m\u001b[0;34m.\u001b[0m\u001b[0mindex\u001b[0m\u001b[0;34m[\u001b[0m\u001b[0;36m0\u001b[0m\u001b[0;34m]\u001b[0m\u001b[0;34m\u001b[0m\u001b[0;34m\u001b[0m\u001b[0m\n\u001b[0;32m----> 5\u001b[0;31m \u001b[0mprint\u001b[0m\u001b[0;34m(\u001b[0m\u001b[0;34m'Leads from portfolio 1 develop activities in the sector of'\u001b[0m\u001b[0;34m,\u001b[0m \u001b[0msetor1\u001b[0m\u001b[0;34m)\u001b[0m\u001b[0;34m\u001b[0m\u001b[0;34m\u001b[0m\u001b[0m\n\u001b[0m\u001b[1;32m      6\u001b[0m \u001b[0mprint\u001b[0m\u001b[0;34m(\u001b[0m\u001b[0;34m'Leads from portfolio 2 develop activities in the sector of'\u001b[0m\u001b[0;34m,\u001b[0m \u001b[0msetor2\u001b[0m\u001b[0;34m)\u001b[0m\u001b[0;34m\u001b[0m\u001b[0;34m\u001b[0m\u001b[0m\n\u001b[1;32m      7\u001b[0m \u001b[0mprint\u001b[0m\u001b[0;34m(\u001b[0m\u001b[0;34m'Leads from portfolio 3 develop activities in the sector of'\u001b[0m\u001b[0;34m,\u001b[0m \u001b[0msetor3\u001b[0m\u001b[0;34m)\u001b[0m\u001b[0;34m\u001b[0m\u001b[0;34m\u001b[0m\u001b[0m\n",
      "\u001b[0;31mNameError\u001b[0m: name 'setor1' is not defined"
     ]
    }
   ],
   "source": [
    "# Analyzing the portfolios sector\n",
    "sector1 = df_p1['setor'].value_counts().index[0]\n",
    "sector2 = df_p2['setor'].value_counts().index[0]\n",
    "sector3 = df_p3['setor'].value_counts().index[0]\n",
    "print('Leads from portfolio 1 develop activities in the sector of', sector1)\n",
    "print('Leads from portfolio 2 develop activities in the sector of', sector2)\n",
    "print('Leads from portfolio 3 develop activities in the sector of', sector3)"
   ]
  },
  {
   "cell_type": "markdown",
   "metadata": {},
   "source": [
    "### Building the Model"
   ]
  },
  {
   "cell_type": "code",
   "execution_count": null,
   "metadata": {},
   "outputs": [],
   "source": [
    "# Selecting training features and normalizing data\n",
    "x = clean_data[train]\n",
    "#X =  RobustScaler(quantile_range=(25, 75)).fit_transform(x)\n",
    "X = Normalizer().fit_transform(x) "
   ]
  },
  {
   "cell_type": "markdown",
   "metadata": {},
   "source": [
    "**K-means**\n",
    "\n",
    "For this solution, it was choosen the KMeans algorithm. It clusters data by trying to separate samples in n groups of equal variance, minimizing a criterion known as the inertia or within-cluster sum-of-squares (see below). This algorithm requires the number of clusters to be specified. It scales well to large number of samples and has been used across a large range of application areas in many different fields.\n",
    "\n",
    "The k-means algorithm divides a set of  samples  into  disjoint clusters , each described by the mean \n",
    " of the samples in the cluster. The means are commonly called the cluster “centroids”; note that they are not, in general, points from , although they live in the same space.\n",
    "\n",
    "To determine the *k* value, it was applied the **elbow method**."
   ]
  },
  {
   "cell_type": "markdown",
   "metadata": {},
   "source": [
    "#### Finding best number of clusters through Elbow Method"
   ]
  },
  {
   "cell_type": "code",
   "execution_count": null,
   "metadata": {},
   "outputs": [],
   "source": [
    "X_elbow = X\n",
    "wcss = []\n",
    " \n",
    "for i in range(1, 11):\n",
    "    kmeans_elbow = KMeans(n_clusters = i)\n",
    "    kmeans_elbow.fit(X_elbow)\n",
    "    print (i, kmeans_elbow.inertia_)\n",
    "    wcss.append(kmeans_elbow.inertia_)  \n",
    "plt.plot(range(1, 11), wcss)\n",
    "plt.title('Elbow Plot')\n",
    "plt.xlabel('Amount of Clusters')\n",
    "plt.ylabel('WSS') #within cluster sum of squares\n",
    "plt.show()"
   ]
  },
  {
   "cell_type": "markdown",
   "metadata": {},
   "source": [
    "The figure above shows the sum of the data variance in relation to the number of clusters. It is possible to observe that with 3 clusters the distances of the quadratic errors practically stabilize.From that point, there is no such significant discrepancy in terms of variance.Thus, we will adopt k=3."
   ]
  },
  {
   "cell_type": "code",
   "execution_count": null,
   "metadata": {},
   "outputs": [],
   "source": [
    "# Training model\n",
    "kmeans = KMeans(n_clusters = 3, n_jobs= -1)\n",
    "kmeans.fit(X)"
   ]
  },
  {
   "cell_type": "code",
   "execution_count": null,
   "metadata": {},
   "outputs": [],
   "source": [
    "# Checking features centers\n",
    "kmeans.cluster_centers_"
   ]
  },
  {
   "cell_type": "code",
   "execution_count": null,
   "metadata": {},
   "outputs": [],
   "source": [
    "clean_data.shape"
   ]
  },
  {
   "cell_type": "code",
   "execution_count": null,
   "metadata": {},
   "outputs": [],
   "source": [
    "# Adding labels to dataframe\n",
    "labels = kmeans.labels_\n",
    "clean_data['kmeans'] = labels"
   ]
  },
  {
   "cell_type": "code",
   "execution_count": null,
   "metadata": {},
   "outputs": [],
   "source": [
    "# Checking clusters division\n",
    "print('K-means clusters division ')\n",
    "clean_data['kmeans'].value_counts()"
   ]
  },
  {
   "cell_type": "code",
   "execution_count": null,
   "metadata": {},
   "outputs": [],
   "source": [
    "# Plotting clusters division\n",
    "ax = plt.axes(projection =\"3d\") \n",
    "ax.scatter3D(X[:,0], \n",
    "             X[:,1],\n",
    "             X[:,2], \n",
    "             c=kmeans.labels_, \n",
    "             s=50, \n",
    "             cmap='Set2', \n",
    "             alpha=0.5)\n",
    "centers = kmeans.cluster_centers_\n",
    "ax.scatter3D(centers[:, 0], \n",
    "             centers[:,1], \n",
    "             centers[:,2], \n",
    "             c='black', \n",
    "             s=200, \n",
    "             alpha=0.5);\n",
    "plt.show()"
   ]
  },
  {
   "cell_type": "markdown",
   "metadata": {},
   "source": [
    "### Analysing leads"
   ]
  },
  {
   "cell_type": "code",
   "execution_count": null,
   "metadata": {},
   "outputs": [],
   "source": [
    "# Filtering only one portfolio\n",
    "df_port = clean_data.query('kmeans == 2 and portfolio not in (\"1\")')"
   ]
  },
  {
   "cell_type": "code",
   "execution_count": null,
   "metadata": {},
   "outputs": [],
   "source": [
    "# Leads by UF\n",
    "treemap = df_port['sg_uf'].value_counts(normalize=True)\n",
    "sizes = treemap.values\n",
    "label = treemap.index\n",
    "plt.figure(figsize=(10,8))\n",
    "sqy.plot(sizes=sizes, label=label, bar_kwargs={'alpha':.5})\n",
    "plt.title('Leads by UF')\n",
    "plt.axis('off')\n",
    "plt.show()"
   ]
  },
  {
   "cell_type": "code",
   "execution_count": null,
   "metadata": {},
   "outputs": [],
   "source": [
    "# Leads by Sector\n",
    "sns.catplot(x=\"setor\", \n",
    "            kind=\"count\", \n",
    "            data=df_port)\n",
    "plt.title('Leads by UF')\n",
    "plt.xlabel('UF')\n",
    "plt.ylabel('Leads')\n",
    "plt.show()"
   ]
  },
  {
   "cell_type": "code",
   "execution_count": null,
   "metadata": {},
   "outputs": [],
   "source": [
    "#Leads by Sub-Sector\n",
    "df_port['de_ramo'].value_counts().plot(kind='bar', \n",
    "                                       colormap='viridis', \n",
    "                                       width=0.7, \n",
    "                                       alpha=0.6, \n",
    "                                       figsize=(13,8))\n",
    "plt.xticks(rotation=85)\n",
    "plt.ylabel('Amount of Leads')\n",
    "plt.xlabel('Subsector')\n",
    "plt.title('Leads by Sub-Sector ')\n",
    "plt.show()"
   ]
  },
  {
   "cell_type": "markdown",
   "metadata": {},
   "source": [
    "#### Performance Validation by Portfolio"
   ]
  },
  {
   "cell_type": "code",
   "execution_count": null,
   "metadata": {},
   "outputs": [],
   "source": [
    "# Clusters validation\n",
    "X_valida = X\n",
    "df_valida = clean_data\n",
    "for i in range(2, 10):\n",
    "    kmeans_valida = KMeans(n_clusters = i)\n",
    "    kmeans_valida.fit(X_valida)\n",
    "    df_valida['kmeans'] = kmeans_valida.labels_\n",
    "    print('K =', i)\n",
    "    for j in range(1,4):\n",
    "        per_valida = df_valida.query('portfolio == @j')['kmeans'].value_counts().max()/df_valida.query('portfolio == @j').shape[0]\n",
    "        class_valida = df_valida.query('portfolio == @j')['kmeans'].value_counts().index[0]\n",
    "        print('Portfolio{}'.format(j), 'Cluster', class_valida, '- Correct predictions: {:.0%}'.format(per_valida))\n",
    "    print(47*'=')"
   ]
  },
  {
   "cell_type": "markdown",
   "metadata": {},
   "source": [
    "Through performance validation test it is possible to observe that the increase in thecluster number (K) does not increase the number of correct predictions in the portfolios.\n",
    "\n",
    "With 3 clusters the performance obtained in portfolio1 was 81%%, in portfolio2 it was 73% and in portfolio3 it was 70%. The Cluster 1 represents 81% of its current portfolio1, for example."
   ]
  }
 ],
 "metadata": {
  "kernelspec": {
   "display_name": "hyraka_env",
   "language": "python",
   "name": "hyraka_env"
  },
  "language_info": {
   "codemirror_mode": {
    "name": "ipython",
    "version": 3
   },
   "file_extension": ".py",
   "mimetype": "text/x-python",
   "name": "python",
   "nbconvert_exporter": "python",
   "pygments_lexer": "ipython3",
   "version": "3.6.9"
  }
 },
 "nbformat": 4,
 "nbformat_minor": 4
}
