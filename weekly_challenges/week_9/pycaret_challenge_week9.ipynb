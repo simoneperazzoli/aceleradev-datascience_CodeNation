{
 "cells": [
  {
   "cell_type": "markdown",
   "metadata": {},
   "source": [
    "### Challenge\n",
    "\n",
    "Predict which students took the test just for training purpose"
   ]
  },
  {
   "cell_type": "markdown",
   "metadata": {},
   "source": [
    "#### Loading libraries"
   ]
  },
  {
   "cell_type": "code",
   "execution_count": 1,
   "metadata": {},
   "outputs": [],
   "source": [
    "import pycaret\n",
    "import pandas as pd\n",
    "import numpy as np\n",
    "import seaborn as sns\n",
    "import matplotlib.pyplot as plt\n",
    "import pylab\n",
    "from pycaret.classification import *"
   ]
  },
  {
   "cell_type": "markdown",
   "metadata": {},
   "source": [
    "### Loading datasets"
   ]
  },
  {
   "cell_type": "code",
   "execution_count": 2,
   "metadata": {},
   "outputs": [],
   "source": [
    "# Train dataset\n",
    "df_train = pd.read_csv('train.csv')\n",
    "# Test dataset\n",
    "df_test = pd.read_csv('test.csv')\n",
    "\n",
    "# Creating answer dataframe\n",
    "answer = pd.DataFrame()"
   ]
  },
  {
   "cell_type": "markdown",
   "metadata": {},
   "source": [
    "### Exploratory data analysis"
   ]
  },
  {
   "cell_type": "code",
   "execution_count": 3,
   "metadata": {},
   "outputs": [],
   "source": [
    "# Saving the registration number:\n",
    "answer['NU_INSCRICAO'] = df_test['NU_INSCRICAO']"
   ]
  },
  {
   "cell_type": "code",
   "execution_count": 4,
   "metadata": {},
   "outputs": [],
   "source": [
    "# Droping the registration number from train and test dataframes:\n",
    "df_train.drop(['NU_INSCRICAO'], axis=1, inplace=True)\n",
    "df_test.drop(['NU_INSCRICAO'],axis=1, inplace=True)"
   ]
  },
  {
   "cell_type": "code",
   "execution_count": 5,
   "metadata": {},
   "outputs": [
    {
     "data": {
      "text/plain": [
       "((13730, 166), (4570, 42))"
      ]
     },
     "execution_count": 5,
     "metadata": {},
     "output_type": "execute_result"
    }
   ],
   "source": [
    "# Checking dataframe shape\n",
    "df_train.shape, df_test.shape"
   ]
  },
  {
   "cell_type": "code",
   "execution_count": 6,
   "metadata": {},
   "outputs": [],
   "source": [
    "#By checking the shape of the datasets we can see that there are more columns in the training data than in the \n",
    "#test data, so we will use only the features that exist in the test dataframe to analyze and determine which \n",
    "#features we should use to make the prediction.\n",
    "\n",
    "cols = list(df_test)\n",
    "cols.append('IN_TREINEIRO')\n",
    "\n",
    "train = df_train[cols]\n",
    "test = df_test"
   ]
  },
  {
   "cell_type": "code",
   "execution_count": 7,
   "metadata": {},
   "outputs": [
    {
     "data": {
      "text/html": [
       "<div>\n",
       "<style scoped>\n",
       "    .dataframe tbody tr th:only-of-type {\n",
       "        vertical-align: middle;\n",
       "    }\n",
       "\n",
       "    .dataframe tbody tr th {\n",
       "        vertical-align: top;\n",
       "    }\n",
       "\n",
       "    .dataframe thead th {\n",
       "        text-align: right;\n",
       "    }\n",
       "</style>\n",
       "<table border=\"1\" class=\"dataframe\">\n",
       "  <thead>\n",
       "    <tr style=\"text-align: right;\">\n",
       "      <th></th>\n",
       "      <th>CO_UF_RESIDENCIA</th>\n",
       "      <th>SG_UF_RESIDENCIA</th>\n",
       "      <th>NU_IDADE</th>\n",
       "      <th>TP_SEXO</th>\n",
       "      <th>TP_COR_RACA</th>\n",
       "      <th>TP_NACIONALIDADE</th>\n",
       "      <th>TP_ST_CONCLUSAO</th>\n",
       "      <th>TP_ANO_CONCLUIU</th>\n",
       "      <th>TP_ESCOLA</th>\n",
       "      <th>TP_ENSINO</th>\n",
       "      <th>...</th>\n",
       "      <th>NU_NOTA_REDACAO</th>\n",
       "      <th>Q001</th>\n",
       "      <th>Q002</th>\n",
       "      <th>Q006</th>\n",
       "      <th>Q024</th>\n",
       "      <th>Q025</th>\n",
       "      <th>Q026</th>\n",
       "      <th>Q027</th>\n",
       "      <th>Q047</th>\n",
       "      <th>IN_TREINEIRO</th>\n",
       "    </tr>\n",
       "  </thead>\n",
       "  <tbody>\n",
       "    <tr>\n",
       "      <th>0</th>\n",
       "      <td>43</td>\n",
       "      <td>RS</td>\n",
       "      <td>24</td>\n",
       "      <td>M</td>\n",
       "      <td>1</td>\n",
       "      <td>1</td>\n",
       "      <td>1</td>\n",
       "      <td>4</td>\n",
       "      <td>1</td>\n",
       "      <td>NaN</td>\n",
       "      <td>...</td>\n",
       "      <td>520.0</td>\n",
       "      <td>D</td>\n",
       "      <td>D</td>\n",
       "      <td>C</td>\n",
       "      <td>A</td>\n",
       "      <td>A</td>\n",
       "      <td>C</td>\n",
       "      <td>H</td>\n",
       "      <td>A</td>\n",
       "      <td>0</td>\n",
       "    </tr>\n",
       "    <tr>\n",
       "      <th>1</th>\n",
       "      <td>23</td>\n",
       "      <td>CE</td>\n",
       "      <td>17</td>\n",
       "      <td>F</td>\n",
       "      <td>3</td>\n",
       "      <td>1</td>\n",
       "      <td>2</td>\n",
       "      <td>0</td>\n",
       "      <td>2</td>\n",
       "      <td>1.0</td>\n",
       "      <td>...</td>\n",
       "      <td>580.0</td>\n",
       "      <td>A</td>\n",
       "      <td>A</td>\n",
       "      <td>B</td>\n",
       "      <td>A</td>\n",
       "      <td>A</td>\n",
       "      <td>A</td>\n",
       "      <td>NaN</td>\n",
       "      <td>A</td>\n",
       "      <td>0</td>\n",
       "    </tr>\n",
       "    <tr>\n",
       "      <th>2</th>\n",
       "      <td>23</td>\n",
       "      <td>CE</td>\n",
       "      <td>21</td>\n",
       "      <td>F</td>\n",
       "      <td>3</td>\n",
       "      <td>1</td>\n",
       "      <td>3</td>\n",
       "      <td>0</td>\n",
       "      <td>1</td>\n",
       "      <td>NaN</td>\n",
       "      <td>...</td>\n",
       "      <td>NaN</td>\n",
       "      <td>D</td>\n",
       "      <td>D</td>\n",
       "      <td>C</td>\n",
       "      <td>A</td>\n",
       "      <td>A</td>\n",
       "      <td>A</td>\n",
       "      <td>NaN</td>\n",
       "      <td>A</td>\n",
       "      <td>0</td>\n",
       "    </tr>\n",
       "    <tr>\n",
       "      <th>3</th>\n",
       "      <td>33</td>\n",
       "      <td>RJ</td>\n",
       "      <td>25</td>\n",
       "      <td>F</td>\n",
       "      <td>0</td>\n",
       "      <td>1</td>\n",
       "      <td>1</td>\n",
       "      <td>9</td>\n",
       "      <td>1</td>\n",
       "      <td>NaN</td>\n",
       "      <td>...</td>\n",
       "      <td>NaN</td>\n",
       "      <td>H</td>\n",
       "      <td>E</td>\n",
       "      <td>E</td>\n",
       "      <td>C</td>\n",
       "      <td>B</td>\n",
       "      <td>C</td>\n",
       "      <td>F</td>\n",
       "      <td>D</td>\n",
       "      <td>0</td>\n",
       "    </tr>\n",
       "    <tr>\n",
       "      <th>4</th>\n",
       "      <td>13</td>\n",
       "      <td>AM</td>\n",
       "      <td>28</td>\n",
       "      <td>M</td>\n",
       "      <td>2</td>\n",
       "      <td>1</td>\n",
       "      <td>1</td>\n",
       "      <td>4</td>\n",
       "      <td>1</td>\n",
       "      <td>NaN</td>\n",
       "      <td>...</td>\n",
       "      <td>NaN</td>\n",
       "      <td>E</td>\n",
       "      <td>D</td>\n",
       "      <td>C</td>\n",
       "      <td>A</td>\n",
       "      <td>A</td>\n",
       "      <td>B</td>\n",
       "      <td>F</td>\n",
       "      <td>A</td>\n",
       "      <td>0</td>\n",
       "    </tr>\n",
       "  </tbody>\n",
       "</table>\n",
       "<p>5 rows × 43 columns</p>\n",
       "</div>"
      ],
      "text/plain": [
       "   CO_UF_RESIDENCIA SG_UF_RESIDENCIA  NU_IDADE TP_SEXO  TP_COR_RACA  \\\n",
       "0                43               RS        24       M            1   \n",
       "1                23               CE        17       F            3   \n",
       "2                23               CE        21       F            3   \n",
       "3                33               RJ        25       F            0   \n",
       "4                13               AM        28       M            2   \n",
       "\n",
       "   TP_NACIONALIDADE  TP_ST_CONCLUSAO  TP_ANO_CONCLUIU  TP_ESCOLA  TP_ENSINO  \\\n",
       "0                 1                1                4          1        NaN   \n",
       "1                 1                2                0          2        1.0   \n",
       "2                 1                3                0          1        NaN   \n",
       "3                 1                1                9          1        NaN   \n",
       "4                 1                1                4          1        NaN   \n",
       "\n",
       "   ...  NU_NOTA_REDACAO  Q001  Q002  Q006  Q024  Q025  Q026  Q027  Q047  \\\n",
       "0  ...            520.0     D     D     C     A     A     C     H     A   \n",
       "1  ...            580.0     A     A     B     A     A     A   NaN     A   \n",
       "2  ...              NaN     D     D     C     A     A     A   NaN     A   \n",
       "3  ...              NaN     H     E     E     C     B     C     F     D   \n",
       "4  ...              NaN     E     D     C     A     A     B     F     A   \n",
       "\n",
       "   IN_TREINEIRO  \n",
       "0             0  \n",
       "1             0  \n",
       "2             0  \n",
       "3             0  \n",
       "4             0  \n",
       "\n",
       "[5 rows x 43 columns]"
      ]
     },
     "execution_count": 7,
     "metadata": {},
     "output_type": "execute_result"
    }
   ],
   "source": [
    "# Viewing training data:\n",
    "train.head()"
   ]
  },
  {
   "cell_type": "code",
   "execution_count": 8,
   "metadata": {},
   "outputs": [
    {
     "data": {
      "text/html": [
       "<div>\n",
       "<style scoped>\n",
       "    .dataframe tbody tr th:only-of-type {\n",
       "        vertical-align: middle;\n",
       "    }\n",
       "\n",
       "    .dataframe tbody tr th {\n",
       "        vertical-align: top;\n",
       "    }\n",
       "\n",
       "    .dataframe thead th {\n",
       "        text-align: right;\n",
       "    }\n",
       "</style>\n",
       "<table border=\"1\" class=\"dataframe\">\n",
       "  <thead>\n",
       "    <tr style=\"text-align: right;\">\n",
       "      <th></th>\n",
       "      <th>CO_UF_RESIDENCIA</th>\n",
       "      <th>SG_UF_RESIDENCIA</th>\n",
       "      <th>NU_IDADE</th>\n",
       "      <th>TP_SEXO</th>\n",
       "      <th>TP_COR_RACA</th>\n",
       "      <th>TP_NACIONALIDADE</th>\n",
       "      <th>TP_ST_CONCLUSAO</th>\n",
       "      <th>TP_ANO_CONCLUIU</th>\n",
       "      <th>TP_ESCOLA</th>\n",
       "      <th>TP_ENSINO</th>\n",
       "      <th>...</th>\n",
       "      <th>NU_NOTA_COMP5</th>\n",
       "      <th>NU_NOTA_REDACAO</th>\n",
       "      <th>Q001</th>\n",
       "      <th>Q002</th>\n",
       "      <th>Q006</th>\n",
       "      <th>Q024</th>\n",
       "      <th>Q025</th>\n",
       "      <th>Q026</th>\n",
       "      <th>Q027</th>\n",
       "      <th>Q047</th>\n",
       "    </tr>\n",
       "  </thead>\n",
       "  <tbody>\n",
       "    <tr>\n",
       "      <th>0</th>\n",
       "      <td>43</td>\n",
       "      <td>RS</td>\n",
       "      <td>19</td>\n",
       "      <td>F</td>\n",
       "      <td>1</td>\n",
       "      <td>1</td>\n",
       "      <td>1</td>\n",
       "      <td>3</td>\n",
       "      <td>1</td>\n",
       "      <td>NaN</td>\n",
       "      <td>...</td>\n",
       "      <td>NaN</td>\n",
       "      <td>NaN</td>\n",
       "      <td>E</td>\n",
       "      <td>E</td>\n",
       "      <td>H</td>\n",
       "      <td>B</td>\n",
       "      <td>B</td>\n",
       "      <td>C</td>\n",
       "      <td>D</td>\n",
       "      <td>A</td>\n",
       "    </tr>\n",
       "    <tr>\n",
       "      <th>1</th>\n",
       "      <td>15</td>\n",
       "      <td>PA</td>\n",
       "      <td>24</td>\n",
       "      <td>M</td>\n",
       "      <td>3</td>\n",
       "      <td>2</td>\n",
       "      <td>1</td>\n",
       "      <td>4</td>\n",
       "      <td>1</td>\n",
       "      <td>NaN</td>\n",
       "      <td>...</td>\n",
       "      <td>NaN</td>\n",
       "      <td>NaN</td>\n",
       "      <td>B</td>\n",
       "      <td>C</td>\n",
       "      <td>B</td>\n",
       "      <td>A</td>\n",
       "      <td>A</td>\n",
       "      <td>C</td>\n",
       "      <td>D</td>\n",
       "      <td>A</td>\n",
       "    </tr>\n",
       "    <tr>\n",
       "      <th>2</th>\n",
       "      <td>29</td>\n",
       "      <td>BA</td>\n",
       "      <td>16</td>\n",
       "      <td>F</td>\n",
       "      <td>2</td>\n",
       "      <td>1</td>\n",
       "      <td>3</td>\n",
       "      <td>0</td>\n",
       "      <td>1</td>\n",
       "      <td>NaN</td>\n",
       "      <td>...</td>\n",
       "      <td>NaN</td>\n",
       "      <td>NaN</td>\n",
       "      <td>E</td>\n",
       "      <td>F</td>\n",
       "      <td>G</td>\n",
       "      <td>B</td>\n",
       "      <td>B</td>\n",
       "      <td>A</td>\n",
       "      <td>NaN</td>\n",
       "      <td>D</td>\n",
       "    </tr>\n",
       "    <tr>\n",
       "      <th>3</th>\n",
       "      <td>41</td>\n",
       "      <td>PR</td>\n",
       "      <td>17</td>\n",
       "      <td>F</td>\n",
       "      <td>1</td>\n",
       "      <td>1</td>\n",
       "      <td>2</td>\n",
       "      <td>0</td>\n",
       "      <td>2</td>\n",
       "      <td>1.0</td>\n",
       "      <td>...</td>\n",
       "      <td>40.0</td>\n",
       "      <td>480.0</td>\n",
       "      <td>E</td>\n",
       "      <td>E</td>\n",
       "      <td>E</td>\n",
       "      <td>C</td>\n",
       "      <td>B</td>\n",
       "      <td>B</td>\n",
       "      <td>C</td>\n",
       "      <td>A</td>\n",
       "    </tr>\n",
       "    <tr>\n",
       "      <th>4</th>\n",
       "      <td>53</td>\n",
       "      <td>DF</td>\n",
       "      <td>19</td>\n",
       "      <td>F</td>\n",
       "      <td>1</td>\n",
       "      <td>1</td>\n",
       "      <td>1</td>\n",
       "      <td>1</td>\n",
       "      <td>1</td>\n",
       "      <td>NaN</td>\n",
       "      <td>...</td>\n",
       "      <td>80.0</td>\n",
       "      <td>720.0</td>\n",
       "      <td>E</td>\n",
       "      <td>E</td>\n",
       "      <td>E</td>\n",
       "      <td>B</td>\n",
       "      <td>B</td>\n",
       "      <td>B</td>\n",
       "      <td>D</td>\n",
       "      <td>A</td>\n",
       "    </tr>\n",
       "  </tbody>\n",
       "</table>\n",
       "<p>5 rows × 42 columns</p>\n",
       "</div>"
      ],
      "text/plain": [
       "   CO_UF_RESIDENCIA SG_UF_RESIDENCIA  NU_IDADE TP_SEXO  TP_COR_RACA  \\\n",
       "0                43               RS        19       F            1   \n",
       "1                15               PA        24       M            3   \n",
       "2                29               BA        16       F            2   \n",
       "3                41               PR        17       F            1   \n",
       "4                53               DF        19       F            1   \n",
       "\n",
       "   TP_NACIONALIDADE  TP_ST_CONCLUSAO  TP_ANO_CONCLUIU  TP_ESCOLA  TP_ENSINO  \\\n",
       "0                 1                1                3          1        NaN   \n",
       "1                 2                1                4          1        NaN   \n",
       "2                 1                3                0          1        NaN   \n",
       "3                 1                2                0          2        1.0   \n",
       "4                 1                1                1          1        NaN   \n",
       "\n",
       "   ...  NU_NOTA_COMP5  NU_NOTA_REDACAO  Q001  Q002  Q006  Q024  Q025  Q026  \\\n",
       "0  ...            NaN              NaN     E     E     H     B     B     C   \n",
       "1  ...            NaN              NaN     B     C     B     A     A     C   \n",
       "2  ...            NaN              NaN     E     F     G     B     B     A   \n",
       "3  ...           40.0            480.0     E     E     E     C     B     B   \n",
       "4  ...           80.0            720.0     E     E     E     B     B     B   \n",
       "\n",
       "   Q027  Q047  \n",
       "0     D     A  \n",
       "1     D     A  \n",
       "2   NaN     D  \n",
       "3     C     A  \n",
       "4     D     A  \n",
       "\n",
       "[5 rows x 42 columns]"
      ]
     },
     "execution_count": 8,
     "metadata": {},
     "output_type": "execute_result"
    }
   ],
   "source": [
    "# Viewing test data:\n",
    "test.head()"
   ]
  },
  {
   "cell_type": "code",
   "execution_count": 9,
   "metadata": {},
   "outputs": [],
   "source": [
    "# Selecting mannualy features for model, according with previously analysis\n",
    "train = train[['NU_IDADE','TP_ST_CONCLUSAO', 'TP_PRESENCA_CN', 'TP_PRESENCA_CH', 'TP_PRESENCA_LC','TP_PRESENCA_MT', 'IN_TREINEIRO']]\n",
    "test = test[['NU_IDADE','TP_ST_CONCLUSAO', 'TP_PRESENCA_CN', 'TP_PRESENCA_CH', 'TP_PRESENCA_LC','TP_PRESENCA_MT']]"
   ]
  },
  {
   "cell_type": "code",
   "execution_count": 10,
   "metadata": {},
   "outputs": [],
   "source": [
    "# Creating a funtion to summarize dataframe information\n",
    "def data_summary(df):\n",
    "    '''Summary dataframe information'''\n",
    "\n",
    "    df = pd.DataFrame({'type': df.dtypes,\n",
    "                       'amount': df.isna().sum(),\n",
    "                       'null_values (%)': (df.isna().sum() / df.shape[0]) * 100,\n",
    "                       'unique': df.nunique()})\n",
    "    return df"
   ]
  },
  {
   "cell_type": "code",
   "execution_count": 11,
   "metadata": {},
   "outputs": [
    {
     "data": {
      "text/html": [
       "<div>\n",
       "<style scoped>\n",
       "    .dataframe tbody tr th:only-of-type {\n",
       "        vertical-align: middle;\n",
       "    }\n",
       "\n",
       "    .dataframe tbody tr th {\n",
       "        vertical-align: top;\n",
       "    }\n",
       "\n",
       "    .dataframe thead th {\n",
       "        text-align: right;\n",
       "    }\n",
       "</style>\n",
       "<table border=\"1\" class=\"dataframe\">\n",
       "  <thead>\n",
       "    <tr style=\"text-align: right;\">\n",
       "      <th></th>\n",
       "      <th>type</th>\n",
       "      <th>amount</th>\n",
       "      <th>null_values (%)</th>\n",
       "      <th>unique</th>\n",
       "    </tr>\n",
       "  </thead>\n",
       "  <tbody>\n",
       "    <tr>\n",
       "      <th>NU_IDADE</th>\n",
       "      <td>int64</td>\n",
       "      <td>0</td>\n",
       "      <td>0.0</td>\n",
       "      <td>47</td>\n",
       "    </tr>\n",
       "    <tr>\n",
       "      <th>TP_ST_CONCLUSAO</th>\n",
       "      <td>int64</td>\n",
       "      <td>0</td>\n",
       "      <td>0.0</td>\n",
       "      <td>4</td>\n",
       "    </tr>\n",
       "    <tr>\n",
       "      <th>TP_PRESENCA_CN</th>\n",
       "      <td>int64</td>\n",
       "      <td>0</td>\n",
       "      <td>0.0</td>\n",
       "      <td>2</td>\n",
       "    </tr>\n",
       "    <tr>\n",
       "      <th>TP_PRESENCA_CH</th>\n",
       "      <td>int64</td>\n",
       "      <td>0</td>\n",
       "      <td>0.0</td>\n",
       "      <td>2</td>\n",
       "    </tr>\n",
       "    <tr>\n",
       "      <th>TP_PRESENCA_LC</th>\n",
       "      <td>int64</td>\n",
       "      <td>0</td>\n",
       "      <td>0.0</td>\n",
       "      <td>3</td>\n",
       "    </tr>\n",
       "    <tr>\n",
       "      <th>TP_PRESENCA_MT</th>\n",
       "      <td>int64</td>\n",
       "      <td>0</td>\n",
       "      <td>0.0</td>\n",
       "      <td>3</td>\n",
       "    </tr>\n",
       "  </tbody>\n",
       "</table>\n",
       "</div>"
      ],
      "text/plain": [
       "                  type  amount  null_values (%)  unique\n",
       "NU_IDADE         int64       0              0.0      47\n",
       "TP_ST_CONCLUSAO  int64       0              0.0       4\n",
       "TP_PRESENCA_CN   int64       0              0.0       2\n",
       "TP_PRESENCA_CH   int64       0              0.0       2\n",
       "TP_PRESENCA_LC   int64       0              0.0       3\n",
       "TP_PRESENCA_MT   int64       0              0.0       3"
      ]
     },
     "execution_count": 11,
     "metadata": {},
     "output_type": "execute_result"
    }
   ],
   "source": [
    "# Train summary:\n",
    "data_summary(test)"
   ]
  },
  {
   "cell_type": "code",
   "execution_count": 12,
   "metadata": {},
   "outputs": [
    {
     "data": {
      "text/html": [
       "<div>\n",
       "<style scoped>\n",
       "    .dataframe tbody tr th:only-of-type {\n",
       "        vertical-align: middle;\n",
       "    }\n",
       "\n",
       "    .dataframe tbody tr th {\n",
       "        vertical-align: top;\n",
       "    }\n",
       "\n",
       "    .dataframe thead th {\n",
       "        text-align: right;\n",
       "    }\n",
       "</style>\n",
       "<table border=\"1\" class=\"dataframe\">\n",
       "  <thead>\n",
       "    <tr style=\"text-align: right;\">\n",
       "      <th></th>\n",
       "      <th>type</th>\n",
       "      <th>amount</th>\n",
       "      <th>null_values (%)</th>\n",
       "      <th>unique</th>\n",
       "    </tr>\n",
       "  </thead>\n",
       "  <tbody>\n",
       "    <tr>\n",
       "      <th>NU_IDADE</th>\n",
       "      <td>int64</td>\n",
       "      <td>0</td>\n",
       "      <td>0.0</td>\n",
       "      <td>55</td>\n",
       "    </tr>\n",
       "    <tr>\n",
       "      <th>TP_ST_CONCLUSAO</th>\n",
       "      <td>int64</td>\n",
       "      <td>0</td>\n",
       "      <td>0.0</td>\n",
       "      <td>4</td>\n",
       "    </tr>\n",
       "    <tr>\n",
       "      <th>TP_PRESENCA_CN</th>\n",
       "      <td>int64</td>\n",
       "      <td>0</td>\n",
       "      <td>0.0</td>\n",
       "      <td>3</td>\n",
       "    </tr>\n",
       "    <tr>\n",
       "      <th>TP_PRESENCA_CH</th>\n",
       "      <td>int64</td>\n",
       "      <td>0</td>\n",
       "      <td>0.0</td>\n",
       "      <td>3</td>\n",
       "    </tr>\n",
       "    <tr>\n",
       "      <th>TP_PRESENCA_LC</th>\n",
       "      <td>int64</td>\n",
       "      <td>0</td>\n",
       "      <td>0.0</td>\n",
       "      <td>3</td>\n",
       "    </tr>\n",
       "    <tr>\n",
       "      <th>TP_PRESENCA_MT</th>\n",
       "      <td>int64</td>\n",
       "      <td>0</td>\n",
       "      <td>0.0</td>\n",
       "      <td>3</td>\n",
       "    </tr>\n",
       "    <tr>\n",
       "      <th>IN_TREINEIRO</th>\n",
       "      <td>int64</td>\n",
       "      <td>0</td>\n",
       "      <td>0.0</td>\n",
       "      <td>2</td>\n",
       "    </tr>\n",
       "  </tbody>\n",
       "</table>\n",
       "</div>"
      ],
      "text/plain": [
       "                  type  amount  null_values (%)  unique\n",
       "NU_IDADE         int64       0              0.0      55\n",
       "TP_ST_CONCLUSAO  int64       0              0.0       4\n",
       "TP_PRESENCA_CN   int64       0              0.0       3\n",
       "TP_PRESENCA_CH   int64       0              0.0       3\n",
       "TP_PRESENCA_LC   int64       0              0.0       3\n",
       "TP_PRESENCA_MT   int64       0              0.0       3\n",
       "IN_TREINEIRO     int64       0              0.0       2"
      ]
     },
     "execution_count": 12,
     "metadata": {},
     "output_type": "execute_result"
    }
   ],
   "source": [
    "# Train summary:\n",
    "data_summary(train)"
   ]
  },
  {
   "cell_type": "markdown",
   "metadata": {},
   "source": [
    "- *PS:* Students classified as 'Treineiros' are those who choose to take the tests even without having completed high school."
   ]
  },
  {
   "cell_type": "markdown",
   "metadata": {},
   "source": [
    "### Analysing target  \"IN_TREINEIRO\""
   ]
  },
  {
   "cell_type": "code",
   "execution_count": 13,
   "metadata": {},
   "outputs": [
    {
     "data": {
      "image/png": "[encoded data removed]",
      "text/plain": [
       "<Figure size 432x288 with 1 Axes>"
      ]
     },
     "metadata": {
      "needs_background": "light"
     },
     "output_type": "display_data"
    }
   ],
   "source": [
    "# Checking the distribution of the variable:\n",
    "train['IN_TREINEIRO'].value_counts()\n",
    "ax = sns.countplot(x='IN_TREINEIRO', data=train)\n",
    "plt.ylabel('Quantidade')\n",
    "plt.title('Distribuição das classes');"
   ]
  },
  {
   "cell_type": "markdown",
   "metadata": {},
   "source": [
    "### Applying SMOTE (Synthetic Minority Over-sampling Technique)  method to deal with umbalanced classes\n",
    "\n",
    "As observed previously, we are dealing with a problem of imbalanced classes. To fix it, we will use SMOTE method."
   ]
  },
  {
   "cell_type": "code",
   "execution_count": 14,
   "metadata": {},
   "outputs": [
    {
     "name": "stderr",
     "output_type": "stream",
     "text": [
      "Using TensorFlow backend.\n"
     ]
    }
   ],
   "source": [
    "from imblearn.over_sampling import SMOTE"
   ]
  },
  {
   "cell_type": "code",
   "execution_count": 15,
   "metadata": {},
   "outputs": [
    {
     "data": {
      "text/plain": [
       "pandas.core.series.Series"
      ]
     },
     "execution_count": 15,
     "metadata": {},
     "output_type": "execute_result"
    }
   ],
   "source": [
    "smt = SMOTE()\n",
    "target = train['IN_TREINEIRO']\n",
    "type(target)"
   ]
  },
  {
   "cell_type": "code",
   "execution_count": 16,
   "metadata": {},
   "outputs": [],
   "source": [
    "# Applying SMOTE to data:\n",
    "train, target = smt.fit_sample(train, target)"
   ]
  },
  {
   "cell_type": "code",
   "execution_count": 17,
   "metadata": {},
   "outputs": [
    {
     "data": {
      "image/png": "[encoded data removed]",
      "text/plain": [
       "<Figure size 432x288 with 1 Axes>"
      ]
     },
     "metadata": {
      "needs_background": "light"
     },
     "output_type": "display_data"
    }
   ],
   "source": [
    "# Checking class distribution\n",
    "np.bincount(target)\n",
    "ax = sns.countplot(x=target)\n",
    "plt.ylabel('Quantidade')\n",
    "plt.title('Distribuição das classes');"
   ]
  },
  {
   "cell_type": "markdown",
   "metadata": {},
   "source": [
    "### Creating a model by using *Pycaret* library"
   ]
  },
  {
   "cell_type": "markdown",
   "metadata": {},
   "source": [
    "PyCaret is an open source, low-code machine learning library in Python that aims to reduce the cycle time from hypothesis to insights. It is well suited for seasoned data scientists who want to increase the productivity of their ML experiments by using PyCaret in their workflows or for citizen data scientists and those new to data science with little or no background in coding. PyCaret allows you to go from preparing your data to deploying your model within seconds using your choice of notebook environment.\n",
    "Check more info [here](https://pycaret.org/guide/)."
   ]
  },
  {
   "cell_type": "markdown",
   "metadata": {},
   "source": [
    "####  1- Seting up parameters:"
   ]
  },
  {
   "cell_type": "markdown",
   "metadata": {},
   "source": [
    "- `setup()` function initializes the environment in pycaret and creates the transformation pipeline to prepare the data for modeling and deployment. It must called before executing any other function and takes two mandatory parameters: dataframe {array-like, sparse matrix} and name of the target column. All other parameters are optional.\n",
    "\n",
    "\n",
    "- **data:** train data.\n",
    "\n",
    "- **target:** target feature.\n",
    "\n",
    "- **remove_multicollinearity:** When set to True, the variables with inter-correlations higher than the threshold defined under the multicollinearity_threshold are dropped. When two features are highly correlated with each other, the feature that is less correlated with the target variable is dropped.\n",
    "\n",
    "- **multicollinearity_threshold:** Threshold used for dropping the correlated features. \n",
    "\n",
    "- **normalize:** When set to True, the feature space is transformed using the normalized_method param. Generally, linear algorithms perform better with normalized data however,  the results may vary and it is advised to run multiple experiments to evaluate the benefit of normalization. \n",
    "\n",
    "- **normalize_method:** Defines the method to be used for normalization. \n",
    "\n",
    "- **transformation:** When set to True, a power transformation is applied to make the data more normal / Gaussian-like. This is useful for modeling issues related to heteroscedasticity or other situations where normality is desired. The optimal parameter for stabilizing variance and minimizing skewness is estimated through maximum likelihood.\n",
    "\n",
    "- **session_id:** If None, a random seed is generated and returned in the Information grid. The unique number is then distributed as a seed in all functions used during the experiment. This can be used for later reproducibility of the entire experiment."
   ]
  },
  {
   "cell_type": "code",
   "execution_count": 18,
   "metadata": {},
   "outputs": [
    {
     "name": "stdout",
     "output_type": "stream",
     "text": [
      " \n",
      "Setup Succesfully Completed!\n"
     ]
    },
    {
     "data": {
      "text/html": [
       "<style  type=\"text/css\" >\n",
       "    #T_d8673cce_d58e_11ea_8162_f83441383182row15_col1 {\n",
       "            background-color:  lightgreen;\n",
       "        }    #T_d8673cce_d58e_11ea_8162_f83441383182row17_col1 {\n",
       "            background-color:  lightgreen;\n",
       "        }    #T_d8673cce_d58e_11ea_8162_f83441383182row22_col1 {\n",
       "            background-color:  lightgreen;\n",
       "        }    #T_d8673cce_d58e_11ea_8162_f83441383182row28_col1 {\n",
       "            background-color:  lightgreen;\n",
       "        }</style><table id=\"T_d8673cce_d58e_11ea_8162_f83441383182\" ><thead>    <tr>        <th class=\"blank level0\" ></th>        <th class=\"col_heading level0 col0\" >Description</th>        <th class=\"col_heading level0 col1\" >Value</th>    </tr></thead><tbody>\n",
       "                <tr>\n",
       "                        <th id=\"T_d8673cce_d58e_11ea_8162_f83441383182level0_row0\" class=\"row_heading level0 row0\" >0</th>\n",
       "                        <td id=\"T_d8673cce_d58e_11ea_8162_f83441383182row0_col0\" class=\"data row0 col0\" >session_id</td>\n",
       "                        <td id=\"T_d8673cce_d58e_11ea_8162_f83441383182row0_col1\" class=\"data row0 col1\" >123</td>\n",
       "            </tr>\n",
       "            <tr>\n",
       "                        <th id=\"T_d8673cce_d58e_11ea_8162_f83441383182level0_row1\" class=\"row_heading level0 row1\" >1</th>\n",
       "                        <td id=\"T_d8673cce_d58e_11ea_8162_f83441383182row1_col0\" class=\"data row1 col0\" >Target Type</td>\n",
       "                        <td id=\"T_d8673cce_d58e_11ea_8162_f83441383182row1_col1\" class=\"data row1 col1\" >Binary</td>\n",
       "            </tr>\n",
       "            <tr>\n",
       "                        <th id=\"T_d8673cce_d58e_11ea_8162_f83441383182level0_row2\" class=\"row_heading level0 row2\" >2</th>\n",
       "                        <td id=\"T_d8673cce_d58e_11ea_8162_f83441383182row2_col0\" class=\"data row2 col0\" >Label Encoded</td>\n",
       "                        <td id=\"T_d8673cce_d58e_11ea_8162_f83441383182row2_col1\" class=\"data row2 col1\" >None</td>\n",
       "            </tr>\n",
       "            <tr>\n",
       "                        <th id=\"T_d8673cce_d58e_11ea_8162_f83441383182level0_row3\" class=\"row_heading level0 row3\" >3</th>\n",
       "                        <td id=\"T_d8673cce_d58e_11ea_8162_f83441383182row3_col0\" class=\"data row3 col0\" >Original Data</td>\n",
       "                        <td id=\"T_d8673cce_d58e_11ea_8162_f83441383182row3_col1\" class=\"data row3 col1\" >(23894, 7)</td>\n",
       "            </tr>\n",
       "            <tr>\n",
       "                        <th id=\"T_d8673cce_d58e_11ea_8162_f83441383182level0_row4\" class=\"row_heading level0 row4\" >4</th>\n",
       "                        <td id=\"T_d8673cce_d58e_11ea_8162_f83441383182row4_col0\" class=\"data row4 col0\" >Missing Values </td>\n",
       "                        <td id=\"T_d8673cce_d58e_11ea_8162_f83441383182row4_col1\" class=\"data row4 col1\" >False</td>\n",
       "            </tr>\n",
       "            <tr>\n",
       "                        <th id=\"T_d8673cce_d58e_11ea_8162_f83441383182level0_row5\" class=\"row_heading level0 row5\" >5</th>\n",
       "                        <td id=\"T_d8673cce_d58e_11ea_8162_f83441383182row5_col0\" class=\"data row5 col0\" >Numeric Features </td>\n",
       "                        <td id=\"T_d8673cce_d58e_11ea_8162_f83441383182row5_col1\" class=\"data row5 col1\" >1</td>\n",
       "            </tr>\n",
       "            <tr>\n",
       "                        <th id=\"T_d8673cce_d58e_11ea_8162_f83441383182level0_row6\" class=\"row_heading level0 row6\" >6</th>\n",
       "                        <td id=\"T_d8673cce_d58e_11ea_8162_f83441383182row6_col0\" class=\"data row6 col0\" >Categorical Features </td>\n",
       "                        <td id=\"T_d8673cce_d58e_11ea_8162_f83441383182row6_col1\" class=\"data row6 col1\" >5</td>\n",
       "            </tr>\n",
       "            <tr>\n",
       "                        <th id=\"T_d8673cce_d58e_11ea_8162_f83441383182level0_row7\" class=\"row_heading level0 row7\" >7</th>\n",
       "                        <td id=\"T_d8673cce_d58e_11ea_8162_f83441383182row7_col0\" class=\"data row7 col0\" >Ordinal Features </td>\n",
       "                        <td id=\"T_d8673cce_d58e_11ea_8162_f83441383182row7_col1\" class=\"data row7 col1\" >False</td>\n",
       "            </tr>\n",
       "            <tr>\n",
       "                        <th id=\"T_d8673cce_d58e_11ea_8162_f83441383182level0_row8\" class=\"row_heading level0 row8\" >8</th>\n",
       "                        <td id=\"T_d8673cce_d58e_11ea_8162_f83441383182row8_col0\" class=\"data row8 col0\" >High Cardinality Features </td>\n",
       "                        <td id=\"T_d8673cce_d58e_11ea_8162_f83441383182row8_col1\" class=\"data row8 col1\" >False</td>\n",
       "            </tr>\n",
       "            <tr>\n",
       "                        <th id=\"T_d8673cce_d58e_11ea_8162_f83441383182level0_row9\" class=\"row_heading level0 row9\" >9</th>\n",
       "                        <td id=\"T_d8673cce_d58e_11ea_8162_f83441383182row9_col0\" class=\"data row9 col0\" >High Cardinality Method </td>\n",
       "                        <td id=\"T_d8673cce_d58e_11ea_8162_f83441383182row9_col1\" class=\"data row9 col1\" >None</td>\n",
       "            </tr>\n",
       "            <tr>\n",
       "                        <th id=\"T_d8673cce_d58e_11ea_8162_f83441383182level0_row10\" class=\"row_heading level0 row10\" >10</th>\n",
       "                        <td id=\"T_d8673cce_d58e_11ea_8162_f83441383182row10_col0\" class=\"data row10 col0\" >Sampled Data</td>\n",
       "                        <td id=\"T_d8673cce_d58e_11ea_8162_f83441383182row10_col1\" class=\"data row10 col1\" >(23894, 7)</td>\n",
       "            </tr>\n",
       "            <tr>\n",
       "                        <th id=\"T_d8673cce_d58e_11ea_8162_f83441383182level0_row11\" class=\"row_heading level0 row11\" >11</th>\n",
       "                        <td id=\"T_d8673cce_d58e_11ea_8162_f83441383182row11_col0\" class=\"data row11 col0\" >Transformed Train Set</td>\n",
       "                        <td id=\"T_d8673cce_d58e_11ea_8162_f83441383182row11_col1\" class=\"data row11 col1\" >(16725, 8)</td>\n",
       "            </tr>\n",
       "            <tr>\n",
       "                        <th id=\"T_d8673cce_d58e_11ea_8162_f83441383182level0_row12\" class=\"row_heading level0 row12\" >12</th>\n",
       "                        <td id=\"T_d8673cce_d58e_11ea_8162_f83441383182row12_col0\" class=\"data row12 col0\" >Transformed Test Set</td>\n",
       "                        <td id=\"T_d8673cce_d58e_11ea_8162_f83441383182row12_col1\" class=\"data row12 col1\" >(7169, 8)</td>\n",
       "            </tr>\n",
       "            <tr>\n",
       "                        <th id=\"T_d8673cce_d58e_11ea_8162_f83441383182level0_row13\" class=\"row_heading level0 row13\" >13</th>\n",
       "                        <td id=\"T_d8673cce_d58e_11ea_8162_f83441383182row13_col0\" class=\"data row13 col0\" >Numeric Imputer </td>\n",
       "                        <td id=\"T_d8673cce_d58e_11ea_8162_f83441383182row13_col1\" class=\"data row13 col1\" >mean</td>\n",
       "            </tr>\n",
       "            <tr>\n",
       "                        <th id=\"T_d8673cce_d58e_11ea_8162_f83441383182level0_row14\" class=\"row_heading level0 row14\" >14</th>\n",
       "                        <td id=\"T_d8673cce_d58e_11ea_8162_f83441383182row14_col0\" class=\"data row14 col0\" >Categorical Imputer </td>\n",
       "                        <td id=\"T_d8673cce_d58e_11ea_8162_f83441383182row14_col1\" class=\"data row14 col1\" >constant</td>\n",
       "            </tr>\n",
       "            <tr>\n",
       "                        <th id=\"T_d8673cce_d58e_11ea_8162_f83441383182level0_row15\" class=\"row_heading level0 row15\" >15</th>\n",
       "                        <td id=\"T_d8673cce_d58e_11ea_8162_f83441383182row15_col0\" class=\"data row15 col0\" >Normalize </td>\n",
       "                        <td id=\"T_d8673cce_d58e_11ea_8162_f83441383182row15_col1\" class=\"data row15 col1\" >True</td>\n",
       "            </tr>\n",
       "            <tr>\n",
       "                        <th id=\"T_d8673cce_d58e_11ea_8162_f83441383182level0_row16\" class=\"row_heading level0 row16\" >16</th>\n",
       "                        <td id=\"T_d8673cce_d58e_11ea_8162_f83441383182row16_col0\" class=\"data row16 col0\" >Normalize Method </td>\n",
       "                        <td id=\"T_d8673cce_d58e_11ea_8162_f83441383182row16_col1\" class=\"data row16 col1\" >minmax</td>\n",
       "            </tr>\n",
       "            <tr>\n",
       "                        <th id=\"T_d8673cce_d58e_11ea_8162_f83441383182level0_row17\" class=\"row_heading level0 row17\" >17</th>\n",
       "                        <td id=\"T_d8673cce_d58e_11ea_8162_f83441383182row17_col0\" class=\"data row17 col0\" >Transformation </td>\n",
       "                        <td id=\"T_d8673cce_d58e_11ea_8162_f83441383182row17_col1\" class=\"data row17 col1\" >True</td>\n",
       "            </tr>\n",
       "            <tr>\n",
       "                        <th id=\"T_d8673cce_d58e_11ea_8162_f83441383182level0_row18\" class=\"row_heading level0 row18\" >18</th>\n",
       "                        <td id=\"T_d8673cce_d58e_11ea_8162_f83441383182row18_col0\" class=\"data row18 col0\" >Transformation Method </td>\n",
       "                        <td id=\"T_d8673cce_d58e_11ea_8162_f83441383182row18_col1\" class=\"data row18 col1\" >yeo-johnson</td>\n",
       "            </tr>\n",
       "            <tr>\n",
       "                        <th id=\"T_d8673cce_d58e_11ea_8162_f83441383182level0_row19\" class=\"row_heading level0 row19\" >19</th>\n",
       "                        <td id=\"T_d8673cce_d58e_11ea_8162_f83441383182row19_col0\" class=\"data row19 col0\" >PCA </td>\n",
       "                        <td id=\"T_d8673cce_d58e_11ea_8162_f83441383182row19_col1\" class=\"data row19 col1\" >False</td>\n",
       "            </tr>\n",
       "            <tr>\n",
       "                        <th id=\"T_d8673cce_d58e_11ea_8162_f83441383182level0_row20\" class=\"row_heading level0 row20\" >20</th>\n",
       "                        <td id=\"T_d8673cce_d58e_11ea_8162_f83441383182row20_col0\" class=\"data row20 col0\" >PCA Method </td>\n",
       "                        <td id=\"T_d8673cce_d58e_11ea_8162_f83441383182row20_col1\" class=\"data row20 col1\" >None</td>\n",
       "            </tr>\n",
       "            <tr>\n",
       "                        <th id=\"T_d8673cce_d58e_11ea_8162_f83441383182level0_row21\" class=\"row_heading level0 row21\" >21</th>\n",
       "                        <td id=\"T_d8673cce_d58e_11ea_8162_f83441383182row21_col0\" class=\"data row21 col0\" >PCA Components </td>\n",
       "                        <td id=\"T_d8673cce_d58e_11ea_8162_f83441383182row21_col1\" class=\"data row21 col1\" >None</td>\n",
       "            </tr>\n",
       "            <tr>\n",
       "                        <th id=\"T_d8673cce_d58e_11ea_8162_f83441383182level0_row22\" class=\"row_heading level0 row22\" >22</th>\n",
       "                        <td id=\"T_d8673cce_d58e_11ea_8162_f83441383182row22_col0\" class=\"data row22 col0\" >Ignore Low Variance </td>\n",
       "                        <td id=\"T_d8673cce_d58e_11ea_8162_f83441383182row22_col1\" class=\"data row22 col1\" >True</td>\n",
       "            </tr>\n",
       "            <tr>\n",
       "                        <th id=\"T_d8673cce_d58e_11ea_8162_f83441383182level0_row23\" class=\"row_heading level0 row23\" >23</th>\n",
       "                        <td id=\"T_d8673cce_d58e_11ea_8162_f83441383182row23_col0\" class=\"data row23 col0\" >Combine Rare Levels </td>\n",
       "                        <td id=\"T_d8673cce_d58e_11ea_8162_f83441383182row23_col1\" class=\"data row23 col1\" >False</td>\n",
       "            </tr>\n",
       "            <tr>\n",
       "                        <th id=\"T_d8673cce_d58e_11ea_8162_f83441383182level0_row24\" class=\"row_heading level0 row24\" >24</th>\n",
       "                        <td id=\"T_d8673cce_d58e_11ea_8162_f83441383182row24_col0\" class=\"data row24 col0\" >Rare Level Threshold </td>\n",
       "                        <td id=\"T_d8673cce_d58e_11ea_8162_f83441383182row24_col1\" class=\"data row24 col1\" >None</td>\n",
       "            </tr>\n",
       "            <tr>\n",
       "                        <th id=\"T_d8673cce_d58e_11ea_8162_f83441383182level0_row25\" class=\"row_heading level0 row25\" >25</th>\n",
       "                        <td id=\"T_d8673cce_d58e_11ea_8162_f83441383182row25_col0\" class=\"data row25 col0\" >Numeric Binning </td>\n",
       "                        <td id=\"T_d8673cce_d58e_11ea_8162_f83441383182row25_col1\" class=\"data row25 col1\" >False</td>\n",
       "            </tr>\n",
       "            <tr>\n",
       "                        <th id=\"T_d8673cce_d58e_11ea_8162_f83441383182level0_row26\" class=\"row_heading level0 row26\" >26</th>\n",
       "                        <td id=\"T_d8673cce_d58e_11ea_8162_f83441383182row26_col0\" class=\"data row26 col0\" >Remove Outliers </td>\n",
       "                        <td id=\"T_d8673cce_d58e_11ea_8162_f83441383182row26_col1\" class=\"data row26 col1\" >False</td>\n",
       "            </tr>\n",
       "            <tr>\n",
       "                        <th id=\"T_d8673cce_d58e_11ea_8162_f83441383182level0_row27\" class=\"row_heading level0 row27\" >27</th>\n",
       "                        <td id=\"T_d8673cce_d58e_11ea_8162_f83441383182row27_col0\" class=\"data row27 col0\" >Outliers Threshold </td>\n",
       "                        <td id=\"T_d8673cce_d58e_11ea_8162_f83441383182row27_col1\" class=\"data row27 col1\" >None</td>\n",
       "            </tr>\n",
       "            <tr>\n",
       "                        <th id=\"T_d8673cce_d58e_11ea_8162_f83441383182level0_row28\" class=\"row_heading level0 row28\" >28</th>\n",
       "                        <td id=\"T_d8673cce_d58e_11ea_8162_f83441383182row28_col0\" class=\"data row28 col0\" >Remove Multicollinearity </td>\n",
       "                        <td id=\"T_d8673cce_d58e_11ea_8162_f83441383182row28_col1\" class=\"data row28 col1\" >True</td>\n",
       "            </tr>\n",
       "            <tr>\n",
       "                        <th id=\"T_d8673cce_d58e_11ea_8162_f83441383182level0_row29\" class=\"row_heading level0 row29\" >29</th>\n",
       "                        <td id=\"T_d8673cce_d58e_11ea_8162_f83441383182row29_col0\" class=\"data row29 col0\" >Multicollinearity Threshold </td>\n",
       "                        <td id=\"T_d8673cce_d58e_11ea_8162_f83441383182row29_col1\" class=\"data row29 col1\" >0.950000</td>\n",
       "            </tr>\n",
       "            <tr>\n",
       "                        <th id=\"T_d8673cce_d58e_11ea_8162_f83441383182level0_row30\" class=\"row_heading level0 row30\" >30</th>\n",
       "                        <td id=\"T_d8673cce_d58e_11ea_8162_f83441383182row30_col0\" class=\"data row30 col0\" >Clustering </td>\n",
       "                        <td id=\"T_d8673cce_d58e_11ea_8162_f83441383182row30_col1\" class=\"data row30 col1\" >False</td>\n",
       "            </tr>\n",
       "            <tr>\n",
       "                        <th id=\"T_d8673cce_d58e_11ea_8162_f83441383182level0_row31\" class=\"row_heading level0 row31\" >31</th>\n",
       "                        <td id=\"T_d8673cce_d58e_11ea_8162_f83441383182row31_col0\" class=\"data row31 col0\" >Clustering Iteration </td>\n",
       "                        <td id=\"T_d8673cce_d58e_11ea_8162_f83441383182row31_col1\" class=\"data row31 col1\" >None</td>\n",
       "            </tr>\n",
       "            <tr>\n",
       "                        <th id=\"T_d8673cce_d58e_11ea_8162_f83441383182level0_row32\" class=\"row_heading level0 row32\" >32</th>\n",
       "                        <td id=\"T_d8673cce_d58e_11ea_8162_f83441383182row32_col0\" class=\"data row32 col0\" >Polynomial Features </td>\n",
       "                        <td id=\"T_d8673cce_d58e_11ea_8162_f83441383182row32_col1\" class=\"data row32 col1\" >False</td>\n",
       "            </tr>\n",
       "            <tr>\n",
       "                        <th id=\"T_d8673cce_d58e_11ea_8162_f83441383182level0_row33\" class=\"row_heading level0 row33\" >33</th>\n",
       "                        <td id=\"T_d8673cce_d58e_11ea_8162_f83441383182row33_col0\" class=\"data row33 col0\" >Polynomial Degree </td>\n",
       "                        <td id=\"T_d8673cce_d58e_11ea_8162_f83441383182row33_col1\" class=\"data row33 col1\" >None</td>\n",
       "            </tr>\n",
       "            <tr>\n",
       "                        <th id=\"T_d8673cce_d58e_11ea_8162_f83441383182level0_row34\" class=\"row_heading level0 row34\" >34</th>\n",
       "                        <td id=\"T_d8673cce_d58e_11ea_8162_f83441383182row34_col0\" class=\"data row34 col0\" >Trignometry Features </td>\n",
       "                        <td id=\"T_d8673cce_d58e_11ea_8162_f83441383182row34_col1\" class=\"data row34 col1\" >False</td>\n",
       "            </tr>\n",
       "            <tr>\n",
       "                        <th id=\"T_d8673cce_d58e_11ea_8162_f83441383182level0_row35\" class=\"row_heading level0 row35\" >35</th>\n",
       "                        <td id=\"T_d8673cce_d58e_11ea_8162_f83441383182row35_col0\" class=\"data row35 col0\" >Polynomial Threshold </td>\n",
       "                        <td id=\"T_d8673cce_d58e_11ea_8162_f83441383182row35_col1\" class=\"data row35 col1\" >None</td>\n",
       "            </tr>\n",
       "            <tr>\n",
       "                        <th id=\"T_d8673cce_d58e_11ea_8162_f83441383182level0_row36\" class=\"row_heading level0 row36\" >36</th>\n",
       "                        <td id=\"T_d8673cce_d58e_11ea_8162_f83441383182row36_col0\" class=\"data row36 col0\" >Group Features </td>\n",
       "                        <td id=\"T_d8673cce_d58e_11ea_8162_f83441383182row36_col1\" class=\"data row36 col1\" >False</td>\n",
       "            </tr>\n",
       "            <tr>\n",
       "                        <th id=\"T_d8673cce_d58e_11ea_8162_f83441383182level0_row37\" class=\"row_heading level0 row37\" >37</th>\n",
       "                        <td id=\"T_d8673cce_d58e_11ea_8162_f83441383182row37_col0\" class=\"data row37 col0\" >Feature Selection </td>\n",
       "                        <td id=\"T_d8673cce_d58e_11ea_8162_f83441383182row37_col1\" class=\"data row37 col1\" >False</td>\n",
       "            </tr>\n",
       "            <tr>\n",
       "                        <th id=\"T_d8673cce_d58e_11ea_8162_f83441383182level0_row38\" class=\"row_heading level0 row38\" >38</th>\n",
       "                        <td id=\"T_d8673cce_d58e_11ea_8162_f83441383182row38_col0\" class=\"data row38 col0\" >Features Selection Threshold </td>\n",
       "                        <td id=\"T_d8673cce_d58e_11ea_8162_f83441383182row38_col1\" class=\"data row38 col1\" >None</td>\n",
       "            </tr>\n",
       "            <tr>\n",
       "                        <th id=\"T_d8673cce_d58e_11ea_8162_f83441383182level0_row39\" class=\"row_heading level0 row39\" >39</th>\n",
       "                        <td id=\"T_d8673cce_d58e_11ea_8162_f83441383182row39_col0\" class=\"data row39 col0\" >Feature Interaction </td>\n",
       "                        <td id=\"T_d8673cce_d58e_11ea_8162_f83441383182row39_col1\" class=\"data row39 col1\" >False</td>\n",
       "            </tr>\n",
       "            <tr>\n",
       "                        <th id=\"T_d8673cce_d58e_11ea_8162_f83441383182level0_row40\" class=\"row_heading level0 row40\" >40</th>\n",
       "                        <td id=\"T_d8673cce_d58e_11ea_8162_f83441383182row40_col0\" class=\"data row40 col0\" >Feature Ratio </td>\n",
       "                        <td id=\"T_d8673cce_d58e_11ea_8162_f83441383182row40_col1\" class=\"data row40 col1\" >False</td>\n",
       "            </tr>\n",
       "            <tr>\n",
       "                        <th id=\"T_d8673cce_d58e_11ea_8162_f83441383182level0_row41\" class=\"row_heading level0 row41\" >41</th>\n",
       "                        <td id=\"T_d8673cce_d58e_11ea_8162_f83441383182row41_col0\" class=\"data row41 col0\" >Interaction Threshold </td>\n",
       "                        <td id=\"T_d8673cce_d58e_11ea_8162_f83441383182row41_col1\" class=\"data row41 col1\" >None</td>\n",
       "            </tr>\n",
       "    </tbody></table>"
      ],
      "text/plain": [
       "<pandas.io.formats.style.Styler at 0x7f76ab7ff6d8>"
      ]
     },
     "metadata": {},
     "output_type": "display_data"
    }
   ],
   "source": [
    "# Creating a pipeline to setup the model\n",
    "pipeline = setup(data=train, \n",
    "                 target='IN_TREINEIRO',\n",
    "                 normalize = True, \n",
    "                 normalize_method = 'minmax',\n",
    "                 transformation = True, \n",
    "                 ignore_low_variance = True,\n",
    "                 remove_multicollinearity = True, \n",
    "                 multicollinearity_threshold = 0.95,\n",
    "                 session_id=123)"
   ]
  },
  {
   "cell_type": "markdown",
   "metadata": {},
   "source": [
    "#### 2 - Comparing classification models\n",
    "\n",
    "- `compare_models()` function train all the models available in the model library and scores them using Stratified Cross Validation. The output prints a score grid with Accuracy, AUC, Recall, Precision, F1, Kappa and MCC (averaged accross folds), determined by fold parameter.\n",
    "- It returns the best model based on metric defined in sort parameter."
   ]
  },
  {
   "cell_type": "code",
   "execution_count": 19,
   "metadata": {},
   "outputs": [],
   "source": [
    "model = compare_models()"
   ]
  },
  {
   "cell_type": "code",
   "execution_count": 20,
   "metadata": {},
   "outputs": [],
   "source": [
    "#best = compare_models(sort = 'AUC') #default is 'Accuracy'"
   ]
  },
  {
   "cell_type": "markdown",
   "metadata": {},
   "source": [
    "#### 3 - Creating a model\n",
    "\n",
    "- `create_model()` function creates a model and scores it using Stratified Cross Validation.The output prints a score grid that shows Accuracy, AUC, Recall, Precision, F1, Kappa and MCC by fold (default = 10 Fold). This function returns a trained model object. "
   ]
  },
  {
   "cell_type": "code",
   "execution_count": 21,
   "metadata": {},
   "outputs": [
    {
     "data": {
      "text/html": [
       "<div>\n",
       "<style scoped>\n",
       "    .dataframe tbody tr th:only-of-type {\n",
       "        vertical-align: middle;\n",
       "    }\n",
       "\n",
       "    .dataframe tbody tr th {\n",
       "        vertical-align: top;\n",
       "    }\n",
       "\n",
       "    .dataframe thead th {\n",
       "        text-align: right;\n",
       "    }\n",
       "</style>\n",
       "<table border=\"1\" class=\"dataframe\">\n",
       "  <thead>\n",
       "    <tr style=\"text-align: right;\">\n",
       "      <th></th>\n",
       "      <th>Accuracy</th>\n",
       "      <th>AUC</th>\n",
       "      <th>Recall</th>\n",
       "      <th>Prec.</th>\n",
       "      <th>F1</th>\n",
       "      <th>Kappa</th>\n",
       "    </tr>\n",
       "  </thead>\n",
       "  <tbody>\n",
       "    <tr>\n",
       "      <th>0</th>\n",
       "      <td>0.9934</td>\n",
       "      <td>0.9999</td>\n",
       "      <td>0.9881</td>\n",
       "      <td>0.9988</td>\n",
       "      <td>0.9934</td>\n",
       "      <td>0.9869</td>\n",
       "    </tr>\n",
       "    <tr>\n",
       "      <th>1</th>\n",
       "      <td>0.9892</td>\n",
       "      <td>0.9998</td>\n",
       "      <td>0.9821</td>\n",
       "      <td>0.9964</td>\n",
       "      <td>0.9892</td>\n",
       "      <td>0.9785</td>\n",
       "    </tr>\n",
       "    <tr>\n",
       "      <th>2</th>\n",
       "      <td>0.9910</td>\n",
       "      <td>0.9998</td>\n",
       "      <td>0.9857</td>\n",
       "      <td>0.9964</td>\n",
       "      <td>0.9910</td>\n",
       "      <td>0.9821</td>\n",
       "    </tr>\n",
       "    <tr>\n",
       "      <th>3</th>\n",
       "      <td>0.9904</td>\n",
       "      <td>0.9998</td>\n",
       "      <td>0.9856</td>\n",
       "      <td>0.9952</td>\n",
       "      <td>0.9904</td>\n",
       "      <td>0.9809</td>\n",
       "    </tr>\n",
       "    <tr>\n",
       "      <th>4</th>\n",
       "      <td>0.9910</td>\n",
       "      <td>0.9998</td>\n",
       "      <td>0.9880</td>\n",
       "      <td>0.9940</td>\n",
       "      <td>0.9910</td>\n",
       "      <td>0.9821</td>\n",
       "    </tr>\n",
       "    <tr>\n",
       "      <th>5</th>\n",
       "      <td>0.9898</td>\n",
       "      <td>0.9998</td>\n",
       "      <td>0.9833</td>\n",
       "      <td>0.9964</td>\n",
       "      <td>0.9898</td>\n",
       "      <td>0.9797</td>\n",
       "    </tr>\n",
       "    <tr>\n",
       "      <th>6</th>\n",
       "      <td>0.9892</td>\n",
       "      <td>0.9999</td>\n",
       "      <td>1.0000</td>\n",
       "      <td>0.9789</td>\n",
       "      <td>0.9893</td>\n",
       "      <td>0.9785</td>\n",
       "    </tr>\n",
       "    <tr>\n",
       "      <th>7</th>\n",
       "      <td>0.9892</td>\n",
       "      <td>0.9998</td>\n",
       "      <td>0.9809</td>\n",
       "      <td>0.9976</td>\n",
       "      <td>0.9891</td>\n",
       "      <td>0.9785</td>\n",
       "    </tr>\n",
       "    <tr>\n",
       "      <th>8</th>\n",
       "      <td>0.9946</td>\n",
       "      <td>0.9999</td>\n",
       "      <td>0.9904</td>\n",
       "      <td>0.9988</td>\n",
       "      <td>0.9946</td>\n",
       "      <td>0.9892</td>\n",
       "    </tr>\n",
       "    <tr>\n",
       "      <th>9</th>\n",
       "      <td>0.9928</td>\n",
       "      <td>0.9999</td>\n",
       "      <td>0.9880</td>\n",
       "      <td>0.9976</td>\n",
       "      <td>0.9928</td>\n",
       "      <td>0.9856</td>\n",
       "    </tr>\n",
       "    <tr>\n",
       "      <th>Mean</th>\n",
       "      <td>0.9911</td>\n",
       "      <td>0.9998</td>\n",
       "      <td>0.9872</td>\n",
       "      <td>0.9950</td>\n",
       "      <td>0.9911</td>\n",
       "      <td>0.9822</td>\n",
       "    </tr>\n",
       "    <tr>\n",
       "      <th>SD</th>\n",
       "      <td>0.0018</td>\n",
       "      <td>0.0001</td>\n",
       "      <td>0.0051</td>\n",
       "      <td>0.0055</td>\n",
       "      <td>0.0018</td>\n",
       "      <td>0.0036</td>\n",
       "    </tr>\n",
       "  </tbody>\n",
       "</table>\n",
       "</div>"
      ],
      "text/plain": [
       "      Accuracy     AUC  Recall   Prec.      F1   Kappa\n",
       "0       0.9934  0.9999  0.9881  0.9988  0.9934  0.9869\n",
       "1       0.9892  0.9998  0.9821  0.9964  0.9892  0.9785\n",
       "2       0.9910  0.9998  0.9857  0.9964  0.9910  0.9821\n",
       "3       0.9904  0.9998  0.9856  0.9952  0.9904  0.9809\n",
       "4       0.9910  0.9998  0.9880  0.9940  0.9910  0.9821\n",
       "5       0.9898  0.9998  0.9833  0.9964  0.9898  0.9797\n",
       "6       0.9892  0.9999  1.0000  0.9789  0.9893  0.9785\n",
       "7       0.9892  0.9998  0.9809  0.9976  0.9891  0.9785\n",
       "8       0.9946  0.9999  0.9904  0.9988  0.9946  0.9892\n",
       "9       0.9928  0.9999  0.9880  0.9976  0.9928  0.9856\n",
       "Mean    0.9911  0.9998  0.9872  0.9950  0.9911  0.9822\n",
       "SD      0.0018  0.0001  0.0051  0.0055  0.0018  0.0036"
      ]
     },
     "metadata": {},
     "output_type": "display_data"
    }
   ],
   "source": [
    "clf = create_model('dt')"
   ]
  },
  {
   "cell_type": "markdown",
   "metadata": {},
   "source": [
    "#### 4 - Model Tunning\n",
    "\n",
    "- `tune_model()` function tunes the hyperparameters of a model and scores it using Stratified Cross Validation. The output prints a score grid that shows Accuracy, AUC, Recall Precision, F1, Kappa, and MCCby fold (by default = 10 Folds). This function returns a trained model object."
   ]
  },
  {
   "cell_type": "code",
   "execution_count": 22,
   "metadata": {},
   "outputs": [
    {
     "data": {
      "text/html": [
       "<div>\n",
       "<style scoped>\n",
       "    .dataframe tbody tr th:only-of-type {\n",
       "        vertical-align: middle;\n",
       "    }\n",
       "\n",
       "    .dataframe tbody tr th {\n",
       "        vertical-align: top;\n",
       "    }\n",
       "\n",
       "    .dataframe thead th {\n",
       "        text-align: right;\n",
       "    }\n",
       "</style>\n",
       "<table border=\"1\" class=\"dataframe\">\n",
       "  <thead>\n",
       "    <tr style=\"text-align: right;\">\n",
       "      <th></th>\n",
       "      <th>Accuracy</th>\n",
       "      <th>AUC</th>\n",
       "      <th>Recall</th>\n",
       "      <th>Prec.</th>\n",
       "      <th>F1</th>\n",
       "      <th>Kappa</th>\n",
       "    </tr>\n",
       "  </thead>\n",
       "  <tbody>\n",
       "    <tr>\n",
       "      <th>0</th>\n",
       "      <td>0.9934</td>\n",
       "      <td>0.9999</td>\n",
       "      <td>0.9881</td>\n",
       "      <td>0.9988</td>\n",
       "      <td>0.9934</td>\n",
       "      <td>0.9869</td>\n",
       "    </tr>\n",
       "    <tr>\n",
       "      <th>1</th>\n",
       "      <td>0.9892</td>\n",
       "      <td>0.9998</td>\n",
       "      <td>0.9821</td>\n",
       "      <td>0.9964</td>\n",
       "      <td>0.9892</td>\n",
       "      <td>0.9785</td>\n",
       "    </tr>\n",
       "    <tr>\n",
       "      <th>2</th>\n",
       "      <td>0.9910</td>\n",
       "      <td>0.9998</td>\n",
       "      <td>0.9857</td>\n",
       "      <td>0.9964</td>\n",
       "      <td>0.9910</td>\n",
       "      <td>0.9821</td>\n",
       "    </tr>\n",
       "    <tr>\n",
       "      <th>3</th>\n",
       "      <td>0.9904</td>\n",
       "      <td>0.9998</td>\n",
       "      <td>0.9856</td>\n",
       "      <td>0.9952</td>\n",
       "      <td>0.9904</td>\n",
       "      <td>0.9809</td>\n",
       "    </tr>\n",
       "    <tr>\n",
       "      <th>4</th>\n",
       "      <td>0.9910</td>\n",
       "      <td>0.9998</td>\n",
       "      <td>0.9880</td>\n",
       "      <td>0.9940</td>\n",
       "      <td>0.9910</td>\n",
       "      <td>0.9821</td>\n",
       "    </tr>\n",
       "    <tr>\n",
       "      <th>5</th>\n",
       "      <td>0.9898</td>\n",
       "      <td>0.9998</td>\n",
       "      <td>0.9833</td>\n",
       "      <td>0.9964</td>\n",
       "      <td>0.9898</td>\n",
       "      <td>0.9797</td>\n",
       "    </tr>\n",
       "    <tr>\n",
       "      <th>6</th>\n",
       "      <td>0.9892</td>\n",
       "      <td>0.9999</td>\n",
       "      <td>1.0000</td>\n",
       "      <td>0.9789</td>\n",
       "      <td>0.9893</td>\n",
       "      <td>0.9785</td>\n",
       "    </tr>\n",
       "    <tr>\n",
       "      <th>7</th>\n",
       "      <td>0.9892</td>\n",
       "      <td>0.9998</td>\n",
       "      <td>0.9809</td>\n",
       "      <td>0.9976</td>\n",
       "      <td>0.9891</td>\n",
       "      <td>0.9785</td>\n",
       "    </tr>\n",
       "    <tr>\n",
       "      <th>8</th>\n",
       "      <td>0.9946</td>\n",
       "      <td>0.9999</td>\n",
       "      <td>0.9904</td>\n",
       "      <td>0.9988</td>\n",
       "      <td>0.9946</td>\n",
       "      <td>0.9892</td>\n",
       "    </tr>\n",
       "    <tr>\n",
       "      <th>9</th>\n",
       "      <td>0.9928</td>\n",
       "      <td>0.9999</td>\n",
       "      <td>0.9880</td>\n",
       "      <td>0.9976</td>\n",
       "      <td>0.9928</td>\n",
       "      <td>0.9856</td>\n",
       "    </tr>\n",
       "    <tr>\n",
       "      <th>Mean</th>\n",
       "      <td>0.9911</td>\n",
       "      <td>0.9998</td>\n",
       "      <td>0.9872</td>\n",
       "      <td>0.9950</td>\n",
       "      <td>0.9911</td>\n",
       "      <td>0.9822</td>\n",
       "    </tr>\n",
       "    <tr>\n",
       "      <th>SD</th>\n",
       "      <td>0.0018</td>\n",
       "      <td>0.0001</td>\n",
       "      <td>0.0051</td>\n",
       "      <td>0.0055</td>\n",
       "      <td>0.0018</td>\n",
       "      <td>0.0036</td>\n",
       "    </tr>\n",
       "  </tbody>\n",
       "</table>\n",
       "</div>"
      ],
      "text/plain": [
       "      Accuracy     AUC  Recall   Prec.      F1   Kappa\n",
       "0       0.9934  0.9999  0.9881  0.9988  0.9934  0.9869\n",
       "1       0.9892  0.9998  0.9821  0.9964  0.9892  0.9785\n",
       "2       0.9910  0.9998  0.9857  0.9964  0.9910  0.9821\n",
       "3       0.9904  0.9998  0.9856  0.9952  0.9904  0.9809\n",
       "4       0.9910  0.9998  0.9880  0.9940  0.9910  0.9821\n",
       "5       0.9898  0.9998  0.9833  0.9964  0.9898  0.9797\n",
       "6       0.9892  0.9999  1.0000  0.9789  0.9893  0.9785\n",
       "7       0.9892  0.9998  0.9809  0.9976  0.9891  0.9785\n",
       "8       0.9946  0.9999  0.9904  0.9988  0.9946  0.9892\n",
       "9       0.9928  0.9999  0.9880  0.9976  0.9928  0.9856\n",
       "Mean    0.9911  0.9998  0.9872  0.9950  0.9911  0.9822\n",
       "SD      0.0018  0.0001  0.0051  0.0055  0.0018  0.0036"
      ]
     },
     "metadata": {},
     "output_type": "display_data"
    }
   ],
   "source": [
    "clf_tuned = tune_model('dt', optimize = 'AUC') #default is 'Accuracy'"
   ]
  },
  {
   "cell_type": "markdown",
   "metadata": {},
   "source": [
    "#### 4 - Model Calibration\n",
    "\n",
    "- `calibrate_model()` function takes the input of trained estimator and performs probability calibration with sigmoid or isotonic regression. The output prints a score  grid that shows Accuracy, AUC, Recall, Precision, F1 and Kappa by fold (default = 10 Fold). In order to see the calibration differences, use ‘calibration’ plot in plot_model to see the difference before and after."
   ]
  },
  {
   "cell_type": "code",
   "execution_count": 23,
   "metadata": {},
   "outputs": [
    {
     "data": {
      "text/html": [
       "<div>\n",
       "<style scoped>\n",
       "    .dataframe tbody tr th:only-of-type {\n",
       "        vertical-align: middle;\n",
       "    }\n",
       "\n",
       "    .dataframe tbody tr th {\n",
       "        vertical-align: top;\n",
       "    }\n",
       "\n",
       "    .dataframe thead th {\n",
       "        text-align: right;\n",
       "    }\n",
       "</style>\n",
       "<table border=\"1\" class=\"dataframe\">\n",
       "  <thead>\n",
       "    <tr style=\"text-align: right;\">\n",
       "      <th></th>\n",
       "      <th>Accuracy</th>\n",
       "      <th>AUC</th>\n",
       "      <th>Recall</th>\n",
       "      <th>Prec.</th>\n",
       "      <th>F1</th>\n",
       "      <th>Kappa</th>\n",
       "    </tr>\n",
       "  </thead>\n",
       "  <tbody>\n",
       "    <tr>\n",
       "      <th>0</th>\n",
       "      <td>0.9934</td>\n",
       "      <td>0.9999</td>\n",
       "      <td>0.9881</td>\n",
       "      <td>0.9988</td>\n",
       "      <td>0.9934</td>\n",
       "      <td>0.9869</td>\n",
       "    </tr>\n",
       "    <tr>\n",
       "      <th>1</th>\n",
       "      <td>0.9892</td>\n",
       "      <td>0.9998</td>\n",
       "      <td>0.9821</td>\n",
       "      <td>0.9964</td>\n",
       "      <td>0.9892</td>\n",
       "      <td>0.9785</td>\n",
       "    </tr>\n",
       "    <tr>\n",
       "      <th>2</th>\n",
       "      <td>0.9910</td>\n",
       "      <td>0.9998</td>\n",
       "      <td>0.9857</td>\n",
       "      <td>0.9964</td>\n",
       "      <td>0.9910</td>\n",
       "      <td>0.9821</td>\n",
       "    </tr>\n",
       "    <tr>\n",
       "      <th>3</th>\n",
       "      <td>0.9904</td>\n",
       "      <td>0.9998</td>\n",
       "      <td>0.9856</td>\n",
       "      <td>0.9952</td>\n",
       "      <td>0.9904</td>\n",
       "      <td>0.9809</td>\n",
       "    </tr>\n",
       "    <tr>\n",
       "      <th>4</th>\n",
       "      <td>0.9910</td>\n",
       "      <td>0.9998</td>\n",
       "      <td>0.9880</td>\n",
       "      <td>0.9940</td>\n",
       "      <td>0.9910</td>\n",
       "      <td>0.9821</td>\n",
       "    </tr>\n",
       "    <tr>\n",
       "      <th>5</th>\n",
       "      <td>0.9898</td>\n",
       "      <td>0.9998</td>\n",
       "      <td>0.9833</td>\n",
       "      <td>0.9964</td>\n",
       "      <td>0.9898</td>\n",
       "      <td>0.9797</td>\n",
       "    </tr>\n",
       "    <tr>\n",
       "      <th>6</th>\n",
       "      <td>0.9940</td>\n",
       "      <td>0.9999</td>\n",
       "      <td>0.9892</td>\n",
       "      <td>0.9988</td>\n",
       "      <td>0.9940</td>\n",
       "      <td>0.9880</td>\n",
       "    </tr>\n",
       "    <tr>\n",
       "      <th>7</th>\n",
       "      <td>0.9892</td>\n",
       "      <td>0.9998</td>\n",
       "      <td>0.9809</td>\n",
       "      <td>0.9976</td>\n",
       "      <td>0.9891</td>\n",
       "      <td>0.9785</td>\n",
       "    </tr>\n",
       "    <tr>\n",
       "      <th>8</th>\n",
       "      <td>0.9946</td>\n",
       "      <td>0.9999</td>\n",
       "      <td>0.9904</td>\n",
       "      <td>0.9988</td>\n",
       "      <td>0.9946</td>\n",
       "      <td>0.9892</td>\n",
       "    </tr>\n",
       "    <tr>\n",
       "      <th>9</th>\n",
       "      <td>0.9928</td>\n",
       "      <td>0.9999</td>\n",
       "      <td>0.9880</td>\n",
       "      <td>0.9976</td>\n",
       "      <td>0.9928</td>\n",
       "      <td>0.9856</td>\n",
       "    </tr>\n",
       "    <tr>\n",
       "      <th>Mean</th>\n",
       "      <td>0.9916</td>\n",
       "      <td>0.9998</td>\n",
       "      <td>0.9861</td>\n",
       "      <td>0.9970</td>\n",
       "      <td>0.9915</td>\n",
       "      <td>0.9831</td>\n",
       "    </tr>\n",
       "    <tr>\n",
       "      <th>SD</th>\n",
       "      <td>0.0019</td>\n",
       "      <td>0.0001</td>\n",
       "      <td>0.0030</td>\n",
       "      <td>0.0015</td>\n",
       "      <td>0.0019</td>\n",
       "      <td>0.0038</td>\n",
       "    </tr>\n",
       "  </tbody>\n",
       "</table>\n",
       "</div>"
      ],
      "text/plain": [
       "      Accuracy     AUC  Recall   Prec.      F1   Kappa\n",
       "0       0.9934  0.9999  0.9881  0.9988  0.9934  0.9869\n",
       "1       0.9892  0.9998  0.9821  0.9964  0.9892  0.9785\n",
       "2       0.9910  0.9998  0.9857  0.9964  0.9910  0.9821\n",
       "3       0.9904  0.9998  0.9856  0.9952  0.9904  0.9809\n",
       "4       0.9910  0.9998  0.9880  0.9940  0.9910  0.9821\n",
       "5       0.9898  0.9998  0.9833  0.9964  0.9898  0.9797\n",
       "6       0.9940  0.9999  0.9892  0.9988  0.9940  0.9880\n",
       "7       0.9892  0.9998  0.9809  0.9976  0.9891  0.9785\n",
       "8       0.9946  0.9999  0.9904  0.9988  0.9946  0.9892\n",
       "9       0.9928  0.9999  0.9880  0.9976  0.9928  0.9856\n",
       "Mean    0.9916  0.9998  0.9861  0.9970  0.9915  0.9831\n",
       "SD      0.0019  0.0001  0.0030  0.0015  0.0019  0.0038"
      ]
     },
     "metadata": {},
     "output_type": "display_data"
    }
   ],
   "source": [
    "clf_calibrated = calibrate_model(clf_tuned)"
   ]
  },
  {
   "cell_type": "code",
   "execution_count": 24,
   "metadata": {
    "scrolled": false
   },
   "outputs": [
    {
     "data": {
      "text/html": [
       "<div>\n",
       "<style scoped>\n",
       "    .dataframe tbody tr th:only-of-type {\n",
       "        vertical-align: middle;\n",
       "    }\n",
       "\n",
       "    .dataframe tbody tr th {\n",
       "        vertical-align: top;\n",
       "    }\n",
       "\n",
       "    .dataframe thead th {\n",
       "        text-align: right;\n",
       "    }\n",
       "</style>\n",
       "<table border=\"1\" class=\"dataframe\">\n",
       "  <thead>\n",
       "    <tr style=\"text-align: right;\">\n",
       "      <th></th>\n",
       "      <th>Model</th>\n",
       "      <th>Accuracy</th>\n",
       "      <th>AUC</th>\n",
       "      <th>Recall</th>\n",
       "      <th>Prec.</th>\n",
       "      <th>F1</th>\n",
       "      <th>Kappa</th>\n",
       "    </tr>\n",
       "  </thead>\n",
       "  <tbody>\n",
       "    <tr>\n",
       "      <th>0</th>\n",
       "      <td>Decision Tree Classifier</td>\n",
       "      <td>0.9883</td>\n",
       "      <td>0.9998</td>\n",
       "      <td>0.9827</td>\n",
       "      <td>0.9938</td>\n",
       "      <td>0.9882</td>\n",
       "      <td>0.9766</td>\n",
       "    </tr>\n",
       "  </tbody>\n",
       "</table>\n",
       "</div>"
      ],
      "text/plain": [
       "                      Model  Accuracy     AUC  Recall   Prec.      F1   Kappa\n",
       "0  Decision Tree Classifier    0.9883  0.9998  0.9827  0.9938  0.9882  0.9766"
      ]
     },
     "metadata": {},
     "output_type": "display_data"
    }
   ],
   "source": [
    "# Checking score after cross-validation:\n",
    "predict_model(clf);"
   ]
  },
  {
   "cell_type": "code",
   "execution_count": 25,
   "metadata": {
    "scrolled": true
   },
   "outputs": [
    {
     "data": {
      "text/html": [
       "<div>\n",
       "<style scoped>\n",
       "    .dataframe tbody tr th:only-of-type {\n",
       "        vertical-align: middle;\n",
       "    }\n",
       "\n",
       "    .dataframe tbody tr th {\n",
       "        vertical-align: top;\n",
       "    }\n",
       "\n",
       "    .dataframe thead th {\n",
       "        text-align: right;\n",
       "    }\n",
       "</style>\n",
       "<table border=\"1\" class=\"dataframe\">\n",
       "  <thead>\n",
       "    <tr style=\"text-align: right;\">\n",
       "      <th></th>\n",
       "      <th>Model</th>\n",
       "      <th>Accuracy</th>\n",
       "      <th>AUC</th>\n",
       "      <th>Recall</th>\n",
       "      <th>Prec.</th>\n",
       "      <th>F1</th>\n",
       "      <th>Kappa</th>\n",
       "    </tr>\n",
       "  </thead>\n",
       "  <tbody>\n",
       "    <tr>\n",
       "      <th>0</th>\n",
       "      <td>Decision Tree Classifier</td>\n",
       "      <td>0.9883</td>\n",
       "      <td>0.9998</td>\n",
       "      <td>0.9827</td>\n",
       "      <td>0.9938</td>\n",
       "      <td>0.9882</td>\n",
       "      <td>0.9766</td>\n",
       "    </tr>\n",
       "  </tbody>\n",
       "</table>\n",
       "</div>"
      ],
      "text/plain": [
       "                      Model  Accuracy     AUC  Recall   Prec.      F1   Kappa\n",
       "0  Decision Tree Classifier    0.9883  0.9998  0.9827  0.9938  0.9882  0.9766"
      ]
     },
     "metadata": {},
     "output_type": "display_data"
    }
   ],
   "source": [
    "predict_model(clf_tuned);"
   ]
  },
  {
   "cell_type": "code",
   "execution_count": 26,
   "metadata": {},
   "outputs": [
    {
     "data": {
      "text/html": [
       "<div>\n",
       "<style scoped>\n",
       "    .dataframe tbody tr th:only-of-type {\n",
       "        vertical-align: middle;\n",
       "    }\n",
       "\n",
       "    .dataframe tbody tr th {\n",
       "        vertical-align: top;\n",
       "    }\n",
       "\n",
       "    .dataframe thead th {\n",
       "        text-align: right;\n",
       "    }\n",
       "</style>\n",
       "<table border=\"1\" class=\"dataframe\">\n",
       "  <thead>\n",
       "    <tr style=\"text-align: right;\">\n",
       "      <th></th>\n",
       "      <th>Model</th>\n",
       "      <th>Accuracy</th>\n",
       "      <th>AUC</th>\n",
       "      <th>Recall</th>\n",
       "      <th>Prec.</th>\n",
       "      <th>F1</th>\n",
       "      <th>Kappa</th>\n",
       "    </tr>\n",
       "  </thead>\n",
       "  <tbody>\n",
       "    <tr>\n",
       "      <th>0</th>\n",
       "      <td>Calibrated Classifier C V</td>\n",
       "      <td>0.9883</td>\n",
       "      <td>0.9998</td>\n",
       "      <td>0.9827</td>\n",
       "      <td>0.9938</td>\n",
       "      <td>0.9882</td>\n",
       "      <td>0.9766</td>\n",
       "    </tr>\n",
       "  </tbody>\n",
       "</table>\n",
       "</div>"
      ],
      "text/plain": [
       "                       Model  Accuracy     AUC  Recall   Prec.      F1   Kappa\n",
       "0  Calibrated Classifier C V    0.9883  0.9998  0.9827  0.9938  0.9882  0.9766"
      ]
     },
     "metadata": {},
     "output_type": "display_data"
    }
   ],
   "source": [
    "predict_model(clf_calibrated);"
   ]
  },
  {
   "cell_type": "markdown",
   "metadata": {},
   "source": [
    "#### 5 - Analysing results"
   ]
  },
  {
   "cell_type": "code",
   "execution_count": 27,
   "metadata": {},
   "outputs": [
    {
     "data": {
      "image/png": "[encoded data removed]",
      "text/plain": [
       "<Figure size 504x432 with 1 Axes>"
      ]
     },
     "metadata": {
      "needs_background": "light"
     },
     "output_type": "display_data"
    }
   ],
   "source": [
    "# Model before calibration\n",
    "plot_model(clf_tuned, plot='calibration')"
   ]
  },
  {
   "cell_type": "code",
   "execution_count": 28,
   "metadata": {
    "scrolled": true
   },
   "outputs": [
    {
     "data": {
      "image/png": "[encoded data removed]",
      "text/plain": [
       "<Figure size 504x432 with 1 Axes>"
      ]
     },
     "metadata": {
      "needs_background": "light"
     },
     "output_type": "display_data"
    }
   ],
   "source": [
    "# Model Calibrated\n",
    "plot_model(clf_calibrated, plot='calibration')"
   ]
  },
  {
   "cell_type": "code",
   "execution_count": 29,
   "metadata": {
    "scrolled": true
   },
   "outputs": [
    {
     "data": {
      "image/png": "[encoded data removed]",
      "text/plain": [
       "<Figure size 576x396 with 1 Axes>"
      ]
     },
     "metadata": {},
     "output_type": "display_data"
    }
   ],
   "source": [
    "#  Confusion Matrix\n",
    "plot_model(estimator = clf_calibrated, plot = 'confusion_matrix')"
   ]
  },
  {
   "cell_type": "code",
   "execution_count": 30,
   "metadata": {
    "scrolled": true
   },
   "outputs": [
    {
     "data": {
      "image/png": "[encoded data removed]",
      "text/plain": [
       "<Figure size 576x396 with 1 Axes>"
      ]
     },
     "metadata": {},
     "output_type": "display_data"
    }
   ],
   "source": [
    "# Precision Recall Curve\n",
    "plot_model(estimator = clf_calibrated, plot = 'pr')"
   ]
  },
  {
   "cell_type": "code",
   "execution_count": 31,
   "metadata": {},
   "outputs": [
    {
     "data": {
      "image/png": "[encoded data removed]",
      "text/plain": [
       "<Figure size 576x396 with 1 Axes>"
      ]
     },
     "metadata": {},
     "output_type": "display_data"
    }
   ],
   "source": [
    "# AUC\n",
    "plot_model(estimator = clf_calibrated, plot = 'auc')"
   ]
  },
  {
   "cell_type": "code",
   "execution_count": 32,
   "metadata": {
    "scrolled": true
   },
   "outputs": [
    {
     "data": {
      "image/png": "[encoded data removed]",
      "text/plain": [
       "<Figure size 576x396 with 1 Axes>"
      ]
     },
     "metadata": {},
     "output_type": "display_data"
    }
   ],
   "source": [
    "# Discrimination Threshold\n",
    "plot_model(estimator = clf_calibrated, plot = 'threshold')"
   ]
  },
  {
   "cell_type": "code",
   "execution_count": 33,
   "metadata": {},
   "outputs": [
    {
     "data": {
      "image/png": "[encoded data removed]",
      "text/plain": [
       "<Figure size 576x396 with 2 Axes>"
      ]
     },
     "metadata": {},
     "output_type": "display_data"
    }
   ],
   "source": [
    "# Class report\n",
    "plot_model(estimator = clf_calibrated, plot = 'class_report')"
   ]
  },
  {
   "cell_type": "code",
   "execution_count": 34,
   "metadata": {},
   "outputs": [
    {
     "data": {
      "image/png": "[encoded data removed]",
      "text/plain": [
       "<Figure size 576x396 with 1 Axes>"
      ]
     },
     "metadata": {},
     "output_type": "display_data"
    }
   ],
   "source": [
    "# Class Prediction Error\n",
    "plot_model(estimator = clf_calibrated, plot = 'error')"
   ]
  },
  {
   "cell_type": "code",
   "execution_count": 35,
   "metadata": {},
   "outputs": [
    {
     "data": {
      "image/png": "[encoded data removed]",
      "text/plain": [
       "<Figure size 576x396 with 1 Axes>"
      ]
     },
     "metadata": {},
     "output_type": "display_data"
    }
   ],
   "source": [
    "# Learning curve\n",
    "plot_model(estimator = clf_calibrated, plot = 'learning')"
   ]
  },
  {
   "cell_type": "code",
   "execution_count": 36,
   "metadata": {},
   "outputs": [
    {
     "data": {
      "image/png": "[encoded data removed]",
      "text/plain": [
       "<Figure size 576x396 with 1 Axes>"
      ]
     },
     "metadata": {},
     "output_type": "display_data"
    }
   ],
   "source": [
    "# Manifold Learning\n",
    "plot_model(estimator = clf_calibrated, plot = 'manifold')"
   ]
  },
  {
   "cell_type": "markdown",
   "metadata": {},
   "source": [
    "#### 6 - Predicting scores\n",
    "\n",
    "- `predict_model()` is used to predict new data using a trained estimator. "
   ]
  },
  {
   "cell_type": "code",
   "execution_count": 37,
   "metadata": {},
   "outputs": [],
   "source": [
    "predictions = predict_model(clf_calibrated, data = test)"
   ]
  },
  {
   "cell_type": "markdown",
   "metadata": {},
   "source": [
    "#### 7- Visualizing predictions is answer dataframe"
   ]
  },
  {
   "cell_type": "code",
   "execution_count": 38,
   "metadata": {},
   "outputs": [
    {
     "data": {
      "text/html": [
       "<div>\n",
       "<style scoped>\n",
       "    .dataframe tbody tr th:only-of-type {\n",
       "        vertical-align: middle;\n",
       "    }\n",
       "\n",
       "    .dataframe tbody tr th {\n",
       "        vertical-align: top;\n",
       "    }\n",
       "\n",
       "    .dataframe thead th {\n",
       "        text-align: right;\n",
       "    }\n",
       "</style>\n",
       "<table border=\"1\" class=\"dataframe\">\n",
       "  <thead>\n",
       "    <tr style=\"text-align: right;\">\n",
       "      <th></th>\n",
       "      <th>NU_INSCRICAO</th>\n",
       "      <th>IN_TREINEIRO</th>\n",
       "    </tr>\n",
       "  </thead>\n",
       "  <tbody>\n",
       "    <tr>\n",
       "      <th>0</th>\n",
       "      <td>ba0cc30ba34e7a46764c09dfc38ed83d15828897</td>\n",
       "      <td>0</td>\n",
       "    </tr>\n",
       "    <tr>\n",
       "      <th>1</th>\n",
       "      <td>177f281c68fa032aedbd842a745da68490926cd2</td>\n",
       "      <td>0</td>\n",
       "    </tr>\n",
       "    <tr>\n",
       "      <th>2</th>\n",
       "      <td>6cf0d8b97597d7625cdedc7bdb6c0f052286c334</td>\n",
       "      <td>1</td>\n",
       "    </tr>\n",
       "    <tr>\n",
       "      <th>3</th>\n",
       "      <td>5c356d810fa57671402502cd0933e5601a2ebf1e</td>\n",
       "      <td>0</td>\n",
       "    </tr>\n",
       "    <tr>\n",
       "      <th>4</th>\n",
       "      <td>df47c07bd881c2db3f38c6048bf77c132ad0ceb3</td>\n",
       "      <td>0</td>\n",
       "    </tr>\n",
       "    <tr>\n",
       "      <th>...</th>\n",
       "      <td>...</td>\n",
       "      <td>...</td>\n",
       "    </tr>\n",
       "    <tr>\n",
       "      <th>4565</th>\n",
       "      <td>361b7fcd8867119550fe2af5aa729ffad89a7cf5</td>\n",
       "      <td>0</td>\n",
       "    </tr>\n",
       "    <tr>\n",
       "      <th>4566</th>\n",
       "      <td>d8a0e4c9e29494cc9bba2422bd79333931475ee1</td>\n",
       "      <td>0</td>\n",
       "    </tr>\n",
       "    <tr>\n",
       "      <th>4567</th>\n",
       "      <td>3f1c3388244df8d6521e983a809292d9f3bca643</td>\n",
       "      <td>0</td>\n",
       "    </tr>\n",
       "    <tr>\n",
       "      <th>4568</th>\n",
       "      <td>1778e9c4cef591beb6b986d191d15ed05de816b0</td>\n",
       "      <td>0</td>\n",
       "    </tr>\n",
       "    <tr>\n",
       "      <th>4569</th>\n",
       "      <td>096809759695097e384e766d2d9e23a34fc81610</td>\n",
       "      <td>0</td>\n",
       "    </tr>\n",
       "  </tbody>\n",
       "</table>\n",
       "<p>4570 rows × 2 columns</p>\n",
       "</div>"
      ],
      "text/plain": [
       "                                  NU_INSCRICAO  IN_TREINEIRO\n",
       "0     ba0cc30ba34e7a46764c09dfc38ed83d15828897             0\n",
       "1     177f281c68fa032aedbd842a745da68490926cd2             0\n",
       "2     6cf0d8b97597d7625cdedc7bdb6c0f052286c334             1\n",
       "3     5c356d810fa57671402502cd0933e5601a2ebf1e             0\n",
       "4     df47c07bd881c2db3f38c6048bf77c132ad0ceb3             0\n",
       "...                                        ...           ...\n",
       "4565  361b7fcd8867119550fe2af5aa729ffad89a7cf5             0\n",
       "4566  d8a0e4c9e29494cc9bba2422bd79333931475ee1             0\n",
       "4567  3f1c3388244df8d6521e983a809292d9f3bca643             0\n",
       "4568  1778e9c4cef591beb6b986d191d15ed05de816b0             0\n",
       "4569  096809759695097e384e766d2d9e23a34fc81610             0\n",
       "\n",
       "[4570 rows x 2 columns]"
      ]
     },
     "execution_count": 38,
     "metadata": {},
     "output_type": "execute_result"
    }
   ],
   "source": [
    "answer = pd.DataFrame({'NU_INSCRICAO':  answer['NU_INSCRICAO'],  'IN_TREINEIRO':predictions['Label']})\n",
    "answer"
   ]
  },
  {
   "cell_type": "markdown",
   "metadata": {},
   "source": [
    "#### 8 - Storing results in a .csv file"
   ]
  },
  {
   "cell_type": "code",
   "execution_count": 39,
   "metadata": {},
   "outputs": [],
   "source": [
    "answer.to_csv('answer.csv',index=False,header=True)"
   ]
  }
 ],
 "metadata": {
  "kernelspec": {
   "display_name": "hyraka_env",
   "language": "python",
   "name": "hyraka_env"
  },
  "language_info": {
   "codemirror_mode": {
    "name": "ipython",
    "version": 3
   },
   "file_extension": ".py",
   "mimetype": "text/x-python",
   "name": "python",
   "nbconvert_exporter": "python",
   "pygments_lexer": "ipython3",
   "version": "3.6.9"
  }
 },
 "nbformat": 4,
 "nbformat_minor": 2
}
